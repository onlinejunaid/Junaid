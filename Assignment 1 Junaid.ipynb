{
 "cells": [
  {
   "cell_type": "code",
   "execution_count": 407,
   "id": "eb46e4f1-0d27-4e80-9eb1-8601819d7943",
   "metadata": {},
   "outputs": [],
   "source": [
    "## Assignment 1 (ndexing)"
   ]
  },
  {
   "cell_type": "code",
   "execution_count": 409,
   "id": "721e4e96-3469-4954-b03d-01e68105f744",
   "metadata": {},
   "outputs": [],
   "source": [
    "salaries = ['20k', '40k', '50k', '60k', '35k', '89k','40k']  #salaries = ['20k', '40k', '50k', '60k', '35k', '89k','40k']"
   ]
  },
  {
   "cell_type": "code",
   "execution_count": 411,
   "id": "0e4c3c74-792a-420b-8db3-6f5004e2bcde",
   "metadata": {},
   "outputs": [
    {
     "data": {
      "text/plain": [
       "['20k', '40k', '50k', '60k', '35k', '89k', '40k']"
      ]
     },
     "execution_count": 411,
     "metadata": {},
     "output_type": "execute_result"
    }
   ],
   "source": [
    "salaries"
   ]
  },
  {
   "cell_type": "code",
   "execution_count": 413,
   "id": "52fbf607-779b-4a97-a077-c7c354c72bf6",
   "metadata": {},
   "outputs": [],
   "source": [
    "# 1. What is the length of the salaries list."
   ]
  },
  {
   "cell_type": "code",
   "execution_count": 415,
   "id": "19292b5c-b932-48e3-94b0-9307135480e3",
   "metadata": {},
   "outputs": [
    {
     "data": {
      "text/plain": [
       "7"
      ]
     },
     "execution_count": 415,
     "metadata": {},
     "output_type": "execute_result"
    }
   ],
   "source": [
    "len(salaries)"
   ]
  },
  {
   "cell_type": "code",
   "execution_count": 417,
   "id": "4ebbd0b7-5eee-4482-9d22-dc800a38c028",
   "metadata": {},
   "outputs": [],
   "source": [
    "# 2. Retrieve the third salary in the list by using index."
   ]
  },
  {
   "cell_type": "code",
   "execution_count": 419,
   "id": "a9f9fe5d-c7fd-4954-bf36-0f770f9f17a3",
   "metadata": {},
   "outputs": [
    {
     "data": {
      "text/plain": [
       "'50k'"
      ]
     },
     "execution_count": 419,
     "metadata": {},
     "output_type": "execute_result"
    }
   ],
   "source": [
    "salaries[2]"
   ]
  },
  {
   "cell_type": "code",
   "execution_count": 421,
   "id": "a93d2c93-89e8-498e-be84-084ec220e65a",
   "metadata": {},
   "outputs": [],
   "source": [
    "# 3. Extract the last salary from the list by using a negative index."
   ]
  },
  {
   "cell_type": "code",
   "execution_count": 423,
   "id": "940e33e3-0563-40ec-ae6d-67027964ea2a",
   "metadata": {},
   "outputs": [
    {
     "data": {
      "text/plain": [
       "'40k'"
      ]
     },
     "execution_count": 423,
     "metadata": {},
     "output_type": "execute_result"
    }
   ],
   "source": [
    "salaries[-1]     "
   ]
  },
  {
   "cell_type": "code",
   "execution_count": 425,
   "id": "420b4254-6277-4417-a077-a8e5d71e66d7",
   "metadata": {},
   "outputs": [],
   "source": [
    "# 4. Slice the salaries list to get only the middle three salaries."
   ]
  },
  {
   "cell_type": "code",
   "execution_count": 427,
   "id": "14eb14dc-b6e9-44e2-8fc9-36be3777a8db",
   "metadata": {},
   "outputs": [
    {
     "data": {
      "text/plain": [
       "['50k', '60k', '35k']"
      ]
     },
     "execution_count": 427,
     "metadata": {},
     "output_type": "execute_result"
    }
   ],
   "source": [
    "middle_value = len(salaries)//2\n",
    "middle_three_salaries = salaries[middle_value - 1 : middle_value + 2]\n",
    "middle_three_salaries"
   ]
  },
  {
   "cell_type": "code",
   "execution_count": 429,
   "id": "ce38372e-d848-4109-85b4-9a3dcb28c972",
   "metadata": {},
   "outputs": [],
   "source": [
    " #  5. Add a new salary to the list, ‘100k’ by using append() method."
   ]
  },
  {
   "cell_type": "code",
   "execution_count": 431,
   "id": "db723e31-cdbf-4da5-ad4d-c3a6e38f757f",
   "metadata": {},
   "outputs": [
    {
     "name": "stdout",
     "output_type": "stream",
     "text": [
      "['20k', '40k', '50k', '60k', '35k', '89k', '40k', '100k']\n"
     ]
    }
   ],
   "source": [
    "new = salaries.copy()\n",
    "new.append('100k')\n",
    "print(new)"
   ]
  },
  {
   "cell_type": "code",
   "execution_count": 433,
   "id": "6fe11497-0925-4cf8-ace9-76c22d52f1a6",
   "metadata": {},
   "outputs": [],
   "source": [
    "#  5. Add a new salary to the list, ‘120k’ without method."
   ]
  },
  {
   "cell_type": "code",
   "execution_count": 435,
   "id": "f120d93e-f2d3-4dce-b64f-a65912ec4ca8",
   "metadata": {},
   "outputs": [
    {
     "name": "stdout",
     "output_type": "stream",
     "text": [
      "['20k', '40k', '50k', '60k', '35k', '89k', '40k', '120k']\n"
     ]
    }
   ],
   "source": [
    "new1 = salaries.copy()\n",
    "new1 = new1 + [\"120k\"]\n",
    "print(new1)"
   ]
  },
  {
   "cell_type": "code",
   "execution_count": 437,
   "id": "2bb44909-ab79-4369-9bc4-c85c35e5f732",
   "metadata": {},
   "outputs": [],
   "source": [
    "#   6. Replace the third salary in the list with '55k' and print the updated list."
   ]
  },
  {
   "cell_type": "code",
   "execution_count": 439,
   "id": "e4223e5b-a74f-4682-b097-ad6c7f1cd408",
   "metadata": {},
   "outputs": [
    {
     "data": {
      "text/plain": [
       "['20k', '40k', '55k', '60k', '35k', '89k', '40k']"
      ]
     },
     "execution_count": 439,
     "metadata": {},
     "output_type": "execute_result"
    }
   ],
   "source": [
    "new3 = salaries.copy()\n",
    "new3[2]='55k'\n",
    "new3"
   ]
  },
  {
   "cell_type": "code",
   "execution_count": 441,
   "id": "7f91837d-f65d-4fbc-95dd-387f6b7c1eaa",
   "metadata": {},
   "outputs": [],
   "source": [
    "  #  7. Count how many times '40k' appears in the list."
   ]
  },
  {
   "cell_type": "code",
   "execution_count": 443,
   "id": "82be9f37-5d72-4d20-ba40-923a49aa02b1",
   "metadata": {},
   "outputs": [
    {
     "data": {
      "text/plain": [
       "2"
      ]
     },
     "execution_count": 443,
     "metadata": {},
     "output_type": "execute_result"
    }
   ],
   "source": [
    "salaries.count('40k')"
   ]
  },
  {
   "cell_type": "code",
   "execution_count": 361,
   "id": "21731cac-0b88-4b69-a093-58e70108f561",
   "metadata": {},
   "outputs": [],
   "source": [
    "#  8. Insert a new salary at the second position."
   ]
  },
  {
   "cell_type": "code",
   "execution_count": 449,
   "id": "2a87b4fa-bb43-4023-860a-525b9a6ee7ae",
   "metadata": {},
   "outputs": [
    {
     "data": {
      "text/plain": [
       "['20k', '10k', '40k', '50k', '60k', '35k', '89k', '40k']"
      ]
     },
     "execution_count": 449,
     "metadata": {},
     "output_type": "execute_result"
    }
   ],
   "source": [
    "new5 = salaries.copy()\n",
    "new5.insert (1, '10k')\n",
    "new5"
   ]
  },
  {
   "cell_type": "code",
   "execution_count": 365,
   "id": "f7fa3070-ad92-4b2c-a1a1-c7edc5ec86b9",
   "metadata": {},
   "outputs": [],
   "source": [
    "#  9. Reverse the order of the salaries list with method."
   ]
  },
  {
   "cell_type": "code",
   "execution_count": 451,
   "id": "5fc9220e-937e-48b0-b64e-1ab9e8d7ce0c",
   "metadata": {},
   "outputs": [
    {
     "name": "stdout",
     "output_type": "stream",
     "text": [
      "['40k', '89k', '35k', '60k', '50k', '40k', '20k']\n"
     ]
    }
   ],
   "source": [
    "new6 = salaries.copy()\n",
    "new6.reverse()\n",
    "print(new6)"
   ]
  },
  {
   "cell_type": "code",
   "execution_count": 453,
   "id": "e7d57e64-b97d-498b-81ce-0d529f26cd4d",
   "metadata": {},
   "outputs": [],
   "source": [
    "#  10. Reverse the order of the salaries list without method."
   ]
  },
  {
   "cell_type": "code",
   "execution_count": 455,
   "id": "7772958d-fa82-40f0-8bef-88742d696c7d",
   "metadata": {},
   "outputs": [
    {
     "data": {
      "text/plain": [
       "['40k', '89k', '35k', '60k', '50k', '40k', '20k']"
      ]
     },
     "execution_count": 455,
     "metadata": {},
     "output_type": "execute_result"
    }
   ],
   "source": [
    "new8 = salaries.copy()\n",
    "new8[::-1]"
   ]
  },
  {
   "cell_type": "code",
   "execution_count": null,
   "id": "45a3347d-f669-4db6-8901-e8942c752f87",
   "metadata": {},
   "outputs": [],
   "source": []
  }
 ],
 "metadata": {
  "kernelspec": {
   "display_name": "Python 3 (ipykernel)",
   "language": "python",
   "name": "python3"
  },
  "language_info": {
   "codemirror_mode": {
    "name": "ipython",
    "version": 3
   },
   "file_extension": ".py",
   "mimetype": "text/x-python",
   "name": "python",
   "nbconvert_exporter": "python",
   "pygments_lexer": "ipython3",
   "version": "3.12.7"
  }
 },
 "nbformat": 4,
 "nbformat_minor": 5
}
