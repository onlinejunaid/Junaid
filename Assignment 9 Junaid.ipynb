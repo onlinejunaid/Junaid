{
 "cells": [
  {
   "cell_type": "markdown",
   "id": "07875aa5-9106-4cd7-a020-50f0decf1287",
   "metadata": {},
   "source": [
    "1. What is the average TotalPayBenefits for each JobTitle? exclude ('Not Provided', 'Not provided')"
   ]
  },
  {
   "cell_type": "markdown",
   "id": "1d9e7029-7519-43b1-b2e2-ba1e195252f6",
   "metadata": {},
   "source": [
    "2. Which JobTitle has the most employees in each year? exclude ('Not Provided', 'Not provided')"
   ]
  },
  {
   "cell_type": "markdown",
   "id": "7ab8787f-6f95-4055-9ac6-b659467e7a19",
   "metadata": {},
   "source": [
    "3. What is the total number of unique employees? exclude ('Not Provided', 'Not provided')"
   ]
  },
  {
   "cell_type": "markdown",
   "id": "0b98cf9a-5b33-4504-995a-4abab73cd3a8",
   "metadata": {},
   "source": [
    "4. Show All Employees Ordered By Their TotalPayBenefits In Descending Order? exclude ('Not Provided', 'Not provided')"
   ]
  },
  {
   "cell_type": "markdown",
   "id": "91e2551f-c6b2-4a0e-965c-e75c845c053c",
   "metadata": {},
   "source": [
    "5. Show All Employees With A TotalPaybenefits Value Between 125,000 and 150,000 And A Job Title 'Firefighter'? exclude ('Not Provided', 'Not provided')"
   ]
  },
  {
   "cell_type": "markdown",
   "id": "f4599fa4-97d3-478a-81bc-81f40e49cd61",
   "metadata": {},
   "source": [
    "6. How many employees have no overtime pay or other pay? exclude ('Not Provided', 'Not provided')\n"
   ]
  },
  {
   "cell_type": "markdown",
   "id": "bec39db1-e3c4-4778-b10e-92a49e29177b",
   "metadata": {},
   "source": [
    "7. Show top 10 employees having (overtimepay+OtherPay) in bar plot?  exclude ('Not Provided', 'Not provided')"
   ]
  },
  {
   "cell_type": "markdown",
   "id": "fff50d33-c698-4c98-b88d-24bd3c792a29",
   "metadata": {},
   "source": [
    "8. Show The Average of BasePay, OverTime, OtherPay for all employees in pie chart? exclude ('Not Provided', 'Not provided')\n"
   ]
  },
  {
   "cell_type": "markdown",
   "id": "f5559339-5e9b-4bfe-a3a8-4010627191a7",
   "metadata": {},
   "source": [
    "9. Get the average TotalPayBenefits for each JobTitle, but only for those with an average pay greater than 75000? exclude ('Not Provided', 'Not provided')\n"
   ]
  },
  {
   "cell_type": "markdown",
   "id": "04b14af2-dd48-4767-a814-63385e0bddb6",
   "metadata": {},
   "source": [
    "10. Get the number of employees (EmployeeName) for each JobTitle, where the count is greater than 10?  exclude ('Not Provided', 'Not provided')\n"
   ]
  },
  {
   "cell_type": "code",
   "execution_count": null,
   "id": "b8647f34-358b-4ef4-bd5b-ec5466d2d051",
   "metadata": {},
   "outputs": [],
   "source": []
  },
  {
   "cell_type": "code",
   "execution_count": null,
   "id": "ba7b6f95-5afa-4efd-94a1-d11fe0563b3f",
   "metadata": {},
   "outputs": [],
   "source": []
  },
  {
   "cell_type": "code",
   "execution_count": null,
   "id": "8253c95b-8134-4f76-a7c5-07b3602df7fb",
   "metadata": {},
   "outputs": [],
   "source": []
  },
  {
   "cell_type": "code",
   "execution_count": null,
   "id": "1e3f00b4-a57a-4f81-9d07-1bc7f82cfcdd",
   "metadata": {},
   "outputs": [],
   "source": []
  },
  {
   "cell_type": "code",
   "execution_count": null,
   "id": "c1991e88-96f5-4dec-b2f5-0663ff4b96b2",
   "metadata": {},
   "outputs": [],
   "source": []
  }
 ],
 "metadata": {
  "kernelspec": {
   "display_name": "Python 3 (ipykernel)",
   "language": "python",
   "name": "python3"
  },
  "language_info": {
   "codemirror_mode": {
    "name": "ipython",
    "version": 3
   },
   "file_extension": ".py",
   "mimetype": "text/x-python",
   "name": "python",
   "nbconvert_exporter": "python",
   "pygments_lexer": "ipython3",
   "version": "3.12.7"
  }
 },
 "nbformat": 4,
 "nbformat_minor": 5
}
