{
 "cells": [
  {
   "cell_type": "markdown",
   "id": "b99664f9-2afe-4b00-9a64-73fba6926d9c",
   "metadata": {},
   "source": [
    "Question 1:\n",
    "In a transportation system, we have two classes:\n",
    "●\tElectricVehicle: A class that has a method charge() to charge the vehicle.\n",
    "●\tGasolineVehicle: A class that has a method fuel_up() to refuel the vehicle.\n",
    "Create a class HybridCar that inherits from both ElectricVehicle and GasolineVehicle. The HybridCar class should have a method drive() that prints a message showing the car is being driven. Instantiate an object of class HybridCar and demonstrate the usage of charge(), fuel_up(), and drive().\n",
    "Expected Output:\n",
    "●\tCharging the electric vehicle.\n",
    "●\tFilling up the gasoline tank.\n",
    "●\tDriving the hybrid car.\n",
    "\n"
   ]
  },
  {
   "cell_type": "code",
   "execution_count": 8,
   "id": "b21ac1fe-cb2e-4fe2-8dd0-6e84d38eb6d2",
   "metadata": {},
   "outputs": [
    {
     "name": "stdout",
     "output_type": "stream",
     "text": [
      "Charging the electric vehicle.\n",
      "Filling up the gasoline tank.\n",
      "Driving the hybrid car.\n"
     ]
    }
   ],
   "source": [
    "class ElectricVehicle:\n",
    "    def charge(self):\n",
    "        print(\"Charging the electric vehicle.\")\n",
    "\n",
    "class GasolineVehicle:\n",
    "    def fuel_up(self):\n",
    "        print(\"Filling up the gasoline tank.\")\n",
    "\n",
    "class HybridCar(ElectricVehicle, GasolineVehicle):\n",
    "    def drive(self):\n",
    "        print(\"Driving the hybrid car.\")\n",
    "\n",
    "hybrid_car = HybridCar()\n",
    "\n",
    "hybrid_car.charge()\n",
    "hybrid_car.fuel_up()\n",
    "hybrid_car.drive()"
   ]
  },
  {
   "cell_type": "code",
   "execution_count": null,
   "id": "9f65c1cc-74df-45b3-9ceb-77627b40d904",
   "metadata": {},
   "outputs": [],
   "source": [
    "Question 2:\n",
    "Create a class Animal with a method make_sound(), which prints \"Animal makes a sound\". Then, create two subclasses:\n",
    "●\tLion: Override the make_sound() method to print \"Roar\".\n",
    "●\tCat: Override the make_sound() method to print \"Meow\".\n",
    "Demonstrate polymorphism by calling make_sound() on instances of Lion and Cat."
   ]
  },
  {
   "cell_type": "code",
   "execution_count": 30,
   "id": "700fdaca-305f-47b9-84a7-b6ec2973a027",
   "metadata": {},
   "outputs": [
    {
     "name": "stdout",
     "output_type": "stream",
     "text": [
      "Roar\n",
      "Meow\n"
     ]
    }
   ],
   "source": [
    "class Animal:\n",
    "    def make_sound(self):\n",
    "        print(\"Animal makes a sound\")\n",
    "\n",
    "class Lion(Animal):\n",
    "    def make_sound(self):\n",
    "        print(\"Roar\")\n",
    "\n",
    "class Cat(Animal):\n",
    "    def make_sound(self):\n",
    "        print(\"Meow\")\n",
    "\n",
    "animals = [Lion(), Cat()]\n",
    "\n",
    "for animal in animals:\n",
    "    animal.make_sound()\n"
   ]
  },
  {
   "cell_type": "markdown",
   "id": "26db21c1-c5ae-4a03-b31b-e8b14effef73",
   "metadata": {},
   "source": [
    "Question 3:\n",
    "Create an abstract class SmartHomeDevice with two abstract methods:\n",
    "●\tturn_on() (to turn the device on)\n",
    "●\tturn_off() (to turn the device off)\n",
    "Then, create a Light class that inherits from SmartHomeDevice. Implement the methods turn_on() and turn_off() for a light device. The turn_on() method should print \"Light is ON\", and the turn_off() method should print \"Light is OFF\".\n",
    "Write a Python program to control the light device in a smart home.\n",
    "Expected Output:\n",
    "●\tTurning on the light...\n",
    "●\tLight is ON\n",
    "●\tTurning off the light...\n",
    "●\tLight is OFF"
   ]
  },
  {
   "cell_type": "code",
   "execution_count": 46,
   "id": "8536c2de-c1b6-46fa-a47a-14e271d75c40",
   "metadata": {},
   "outputs": [
    {
     "name": "stdout",
     "output_type": "stream",
     "text": [
      "Turning on the light...\n",
      "Light is ON\n",
      "Turning off the light...\n",
      "Light is OFF\n"
     ]
    }
   ],
   "source": [
    "from abc import ABC, abstractmethod\n",
    "\n",
    "class SmartHomeDevice(ABC):\n",
    "\n",
    "    def turn_on(self):\n",
    "        pass\n",
    "\n",
    "    def turn_off(self):\n",
    "        pass\n",
    "\n",
    "class Light(SmartHomeDevice):\n",
    "\n",
    "    def turn_on(self):\n",
    "        print(\"Light is ON\")\n",
    "\n",
    "    def turn_off(self):\n",
    "        print(\"Light is OFF\")\n",
    "\n",
    "print(\"Turning on the light...\")\n",
    "light = Light()\n",
    "light.turn_on()\n",
    "\n",
    "print(\"Turning off the light...\")\n",
    "light.turn_off()\n"
   ]
  },
  {
   "cell_type": "markdown",
   "id": "cef43ac0-dcee-4ee1-827d-5c4d477285e0",
   "metadata": {},
   "source": [
    "Question 4:\n",
    "Create a class Greeting with a method greet() that can handle different numbers of arguments.\n",
    "●\tIf no argument is passed, it should print \"Hello!\".\n",
    "●\tIf one argument (a name) is passed, it should print \"Hello, !\".\n",
    "●\tIf two arguments (a name and a greeting) are passed, it should print the greeting with the name (e.g., \"Good morning, !\").\n",
    "Simulate method overloading using default arguments or variable-length arguments, and demonstrate the polymorphic behavior by calling greet() with different numbers of arguments.\n",
    "Expected Output:\n",
    "●\tHello!\n",
    "●\tHello, John!\n",
    "●\tGood morning, John!"
   ]
  },
  {
   "cell_type": "code",
   "execution_count": 55,
   "id": "22bfed12-faaf-4488-bc2d-a5dd7997eaeb",
   "metadata": {},
   "outputs": [
    {
     "name": "stdout",
     "output_type": "stream",
     "text": [
      "Hello!\n",
      "Hello, Bilal!\n",
      "Good morning, Bilal!\n"
     ]
    }
   ],
   "source": [
    "class Greeting:\n",
    "    def greet(self, *args):\n",
    "        if len(args) == 0:\n",
    "            print(\"Hello!\")\n",
    "        elif len(args) == 1:\n",
    "            name = args[0]\n",
    "            print(f\"Hello, {name}!\")\n",
    "        elif len(args) == 2:\n",
    "            name, greeting = args\n",
    "            print(f\"{greeting}, {name}!\")\n",
    "        else:\n",
    "            print(\"Invalid number of arguments.\")\n",
    "\n",
    "g = Greeting()\n",
    "g.greet()\n",
    "g.greet(\"Bilal\")\n",
    "g.greet(\"Bilal\", \"Good morning\")\n"
   ]
  },
  {
   "cell_type": "code",
   "execution_count": null,
   "id": "579cd509-ab51-4739-9889-46248e67c75b",
   "metadata": {},
   "outputs": [],
   "source": [
    "Question 5:\n",
    "Create a class CarRental to manage the rental of cars.\n",
    "●\tThe class should have private attributes for the car's name, price per day, and the number of rental days.\n",
    "●\tCreate a method to calculate the total rental cost and a method to set the rental days.\n",
    "●\tUse getter and setter methods for modifying and accessing the car's information.\n",
    "Demonstrate encapsulation by creating an object of CarRental and calculating the total rental cost.\n",
    "Expected Output:\n",
    "●\tCar Name: Toyota Camry\n",
    "●\tPrice Per Day: $50\n",
    "●\tRental Days: 5\n",
    "●\tTotal Rental Cost: $250"
   ]
  },
  {
   "cell_type": "code",
   "execution_count": 65,
   "id": "d5d73038-70a8-4ef7-97b4-c6678ed8d3be",
   "metadata": {},
   "outputs": [
    {
     "name": "stdout",
     "output_type": "stream",
     "text": [
      "Car Name: Toyota Camry\n",
      "Price Per Day: $ 50\n",
      "Rental Days: 5\n",
      "Total Rental Cost: $ 250\n"
     ]
    }
   ],
   "source": [
    "class CarRental:\n",
    "    def __init__(self, car_name, price_per_day):\n",
    "        # Private attributes\n",
    "        self.__car_name = car_name\n",
    "        self.__price_per_day = price_per_day\n",
    "        self.__rental_days = 0\n",
    "\n",
    "    def get_car_name(self):\n",
    "        return self.__car_name\n",
    "\n",
    "    def set_car_name(self, car_name):\n",
    "        self.__car_name = car_name\n",
    "\n",
    "    def get_price_per_day(self):\n",
    "        return self.__price_per_day\n",
    "\n",
    "    def set_price_per_day(self, price_per_day):\n",
    "        self.__price_per_day = price_per_day\n",
    "\n",
    "    def get_rental_days(self):\n",
    "        return self.__rental_days\n",
    "\n",
    "    def set_rental_days(self, rental_days):\n",
    "        if rental_days >= 0:\n",
    "            self.__rental_days = rental_days\n",
    "        else:\n",
    "            raise ValueError(\"Rental days cannot be negative.\")\n",
    "\n",
    "    def calculate_total_cost(self):\n",
    "        return self.__price_per_day * self.__rental_days\n",
    "\n",
    "if __name__ == \"__main__\":\n",
    "    car_rental = CarRental(\"Toyota Camry\", 50)\n",
    "    car_rental.set_rental_days(5)\n",
    "\n",
    "    print(\"Car Name:\", car_rental.get_car_name())\n",
    "    print(\"Price Per Day: $\", car_rental.get_price_per_day())\n",
    "    print(\"Rental Days:\", car_rental.get_rental_days())\n",
    "    print(\"Total Rental Cost: $\", car_rental.calculate_total_cost())\n"
   ]
  },
  {
   "cell_type": "code",
   "execution_count": null,
   "id": "7f4dd2fc-778b-4b6d-93c9-672ab85d1ca3",
   "metadata": {},
   "outputs": [],
   "source": []
  }
 ],
 "metadata": {
  "kernelspec": {
   "display_name": "Python 3 (ipykernel)",
   "language": "python",
   "name": "python3"
  },
  "language_info": {
   "codemirror_mode": {
    "name": "ipython",
    "version": 3
   },
   "file_extension": ".py",
   "mimetype": "text/x-python",
   "name": "python",
   "nbconvert_exporter": "python",
   "pygments_lexer": "ipython3",
   "version": "3.12.7"
  }
 },
 "nbformat": 4,
 "nbformat_minor": 5
}
