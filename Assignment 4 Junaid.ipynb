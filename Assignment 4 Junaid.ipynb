{
 "cells": [
  {
   "cell_type": "markdown",
   "id": "1a53b6b6-3ba7-4f22-99f2-a7f534edebb6",
   "metadata": {},
   "source": [
    "##### Q1. my_tuple = ( (1, 2, 3), [4, 5, 6], ('apple', 'banana', 'cherry'), [7, 8, 9] )\n",
    "##### • Print all elements from my_tuple on a new line (using for loop)\n",
    "##### • Create a new tuple by concatenating the first and last elements of my_tuple"
   ]
  },
  {
   "cell_type": "code",
   "execution_count": 57,
   "id": "91246f1d-62b7-42ec-a8db-9245e2ed0a9e",
   "metadata": {},
   "outputs": [
    {
     "name": "stdout",
     "output_type": "stream",
     "text": [
      "\n",
      "Answer point 1\n",
      "(1, 2, 3)\n",
      "[4, 5, 6]\n",
      "('apple', 'banana', 'cherry')\n",
      "[7, 8, 9]\n",
      "\n",
      "Answer point 2\n",
      "((1, 2, 3), [7, 8, 9])\n"
     ]
    }
   ],
   "source": [
    "my_tuple = ( (1, 2, 3), [4, 5, 6], ('apple', 'banana', 'cherry'), [7, 8, 9] )\n",
    "\n",
    "print(\"\\nAnswer point 1\")\n",
    "# Answer point 1\n",
    "for i in my_tuple:\n",
    "    print(i)   \n",
    "\n",
    "print(\"\\nAnswer point 2\")\n",
    "# Answer point 2\n",
    "new_tuple = (my_tuple[0] , my_tuple[-1])\n",
    "print(new_tuple)"
   ]
  },
  {
   "cell_type": "markdown",
   "id": "9761f4b3-c6a6-417d-8bf1-4de633ea841f",
   "metadata": {},
   "source": [
    "##### Q2. inventory = { \"The Great Gatsby\": {\"price\": 10.99, \"quantity\": 5}, \"Rich dad poor dad\": {\"price\": \n",
    "##### 8.99, \"quantity\": 8}, \"Harry Potter\": {\"price\": 12.50, \"quantity\": 2}, }\n",
    "##### • Add a new book in inventory using method and get all book titles using method\n",
    "##### • Remove a book if it's out of stock"
   ]
  },
  {
   "cell_type": "code",
   "execution_count": 59,
   "id": "31cfbbca-a76b-40cb-8495-9d610be0f368",
   "metadata": {},
   "outputs": [
    {
     "name": "stdout",
     "output_type": "stream",
     "text": [
      "\n",
      "Answer point 1\n"
     ]
    },
    {
     "data": {
      "text/plain": [
       "{'The Great Gatsby': {'price': 10.99, 'quantity': 5},\n",
       " 'Rich dad poor dad': {'price': 8.99, 'quantity': 8},\n",
       " 'Harry Potter': {'price': 12.5, 'quantity': 2},\n",
       " 'Poem of Iqbal': {'price': 15.08, 'quantity': 25}}"
      ]
     },
     "execution_count": 59,
     "metadata": {},
     "output_type": "execute_result"
    }
   ],
   "source": [
    "inventory = { \n",
    "    \"The Great Gatsby\": {\"price\": 10.99, \"quantity\": 5}, \n",
    "    \"Rich dad poor dad\": {\"price\": 8.99, \"quantity\": 8}, \n",
    "    \"Harry Potter\": {\"price\": 12.50, \"quantity\": 2}, }\n",
    "\n",
    "print(\"\\nAnswer point 1\")\n",
    "# Answer Point 1  adding a new book in inventory\n",
    "\n",
    "inventory['Poem of Iqbal'] = {\"price\": 15.08, \"quantity\": 25}\n",
    "inventory\n"
   ]
  },
  {
   "cell_type": "code",
   "execution_count": 61,
   "id": "c6ba58f9-3999-4818-b809-e7fd6698cf34",
   "metadata": {},
   "outputs": [
    {
     "data": {
      "text/plain": [
       "{'The Great Gatsby': {'price': 10.99, 'quantity': 5},\n",
       " 'Harry Potter': {'price': 12.5, 'quantity': 2}}"
      ]
     },
     "execution_count": 61,
     "metadata": {},
     "output_type": "execute_result"
    }
   ],
   "source": [
    "inventory = { \n",
    "    \"The Great Gatsby\": {\"price\": 10.99, \"quantity\": 5}, \n",
    "    \"Rich dad poor dad\": {\"price\": 8.99, \"quantity\": 8}, \n",
    "    \"Harry Potter\": {\"price\": 12.50, \"quantity\": 2}, }\n",
    "\n",
    "# Answer Point 2    Book \"Rick dad poor dad\" is out of stock\n",
    "\n",
    "inventory.pop(\"Rich dad poor dad\")\n",
    "inventory\n"
   ]
  },
  {
   "cell_type": "markdown",
   "id": "33acc78b-9e60-4156-a527-f92b25e10f0a",
   "metadata": {},
   "source": [
    "###### Q3. An ecommerce store stores information about its products in a nested dictionary. The outer dictionary uses product IDs as keys, and the inner dictionary stores product details like name, category, price, and stock quantity.\n",
    "###### products = { 101: {\"name\": \"Laptop\", \"category\": \"Electronics\", \"price\": 1200, \"stock\": 50}, 102: {\"name\": \"Shirt\", \"category\": \"Apparel\", \"price\": 25, \"stock\": 200}, 103: {\"name\": \"Coffee Maker\", \"category\": \"Home Appliances\", \"price\": 80, \"stock\": 30} }\n",
    "###### • Increase the stock of the \"Shirt\" product (add 50 more units)\n",
    "###### • Add a new product (e.g., \"Smartphone\")"
   ]
  },
  {
   "cell_type": "code",
   "execution_count": 69,
   "id": "68002d42-42a3-4a94-85e4-ba4e6f313ddc",
   "metadata": {},
   "outputs": [
    {
     "data": {
      "text/plain": [
       "{101: {'name': 'Laptop',\n",
       "  'category': 'Electronics',\n",
       "  'price': 1200,\n",
       "  'stock': 50},\n",
       " 102: {'name': 'Shirt', 'category': 'Apparel', 'price': 25, 'stock': 250},\n",
       " 103: {'name': 'Coffee Maker',\n",
       "  'category': 'Home Appliances',\n",
       "  'price': 80,\n",
       "  'stock': 30}}"
      ]
     },
     "execution_count": 69,
     "metadata": {},
     "output_type": "execute_result"
    }
   ],
   "source": [
    "products = { \n",
    "    101: {\"name\": \"Laptop\", \"category\": \"Electronics\", \"price\": 1200, \"stock\": 50}, \n",
    "    102: {\"name\": \"Shirt\", \"category\": \"Apparel\", \"price\": 25, \"stock\": 200}, \n",
    "    103: {\"name\": \"Coffee Maker\", \"category\": \"Home Appliances\", \"price\": 80, \"stock\": 30} \n",
    "}\n",
    "# Answer point 1\n",
    "products[102]['stock'] += 50\n",
    "products\n"
   ]
  },
  {
   "cell_type": "code",
   "execution_count": 73,
   "id": "eecdbd0c-3056-4f69-9f1c-35389743ce8e",
   "metadata": {},
   "outputs": [
    {
     "data": {
      "text/plain": [
       "{101: {'name': 'Laptop',\n",
       "  'category': 'Electronics',\n",
       "  'price': 1200,\n",
       "  'stock': 50},\n",
       " 102: {'name': 'Shirt', 'category': 'Apparel', 'price': 25, 'stock': 200},\n",
       " 103: {'name': 'Coffee Maker',\n",
       "  'category': 'Home Appliances',\n",
       "  'price': 80,\n",
       "  'stock': 30},\n",
       " 104: {'name': 'SmartPhone',\n",
       "  'category': 'Electronics',\n",
       "  'price': 750,\n",
       "  'stock': 70}}"
      ]
     },
     "execution_count": 73,
     "metadata": {},
     "output_type": "execute_result"
    }
   ],
   "source": [
    "products = { \n",
    "    101: {\"name\": \"Laptop\", \"category\": \"Electronics\", \"price\": 1200, \"stock\": 50}, \n",
    "    102: {\"name\": \"Shirt\", \"category\": \"Apparel\", \"price\": 25, \"stock\": 200}, \n",
    "    103: {\"name\": \"Coffee Maker\", \"category\": \"Home Appliances\", \"price\": 80, \"stock\": 30} \n",
    "}\n",
    "# Answer point 2   addition as new product.\n",
    "products[104] = {\"name\": \"SmartPhone\", \"category\": \"Electronics\", \"price\": 750, \"stock\": 70}\n",
    "products\n"
   ]
  },
  {
   "cell_type": "markdown",
   "id": "9b265d9d-52c6-4dd7-a63f-0f74aaf3d006",
   "metadata": {},
   "source": [
    "###### Q4. You are given a list that contains some duplicate items. Remove the duplicates by converting the list to a set.\n",
    "###### shopping_list = [\"apple\", \"banana\", \"apple\", \"orange\", \"banana\", \"grape\"]"
   ]
  },
  {
   "cell_type": "code",
   "execution_count": 76,
   "id": "c15ab427-2923-4630-b7ab-1062201d96fa",
   "metadata": {},
   "outputs": [
    {
     "data": {
      "text/plain": [
       "{'apple', 'banana', 'grape', 'orange'}"
      ]
     },
     "execution_count": 76,
     "metadata": {},
     "output_type": "execute_result"
    }
   ],
   "source": [
    "shopping_list = [\"apple\", \"banana\", \"apple\", \"orange\", \"banana\", \"grape\"]\n",
    "set(shopping_list)"
   ]
  },
  {
   "cell_type": "markdown",
   "id": "8df48322-d3b3-48cb-87e1-0ab6f2ab5353",
   "metadata": {},
   "source": [
    "##### Q5. You are managing a list of students enrolled in two different courses. You need to perform various set operations to understand the student enrollment. \n",
    "###### Task: \n",
    "###### Create two sets: one for students in \"Course A\" and one for students in \"Course B\". \n",
    "###### course_a = {\"John\", \"Alice\", \"Bob\", \"David\"} \n",
    "###### course_b = {\"Alice\", \"Eve\", \"Charlie\", \"David\"}\n",
    "##### • Find students who are in Course A but not in Course B (difference)\n",
    "##### • Find students who are only in one of the two courses (symmetric difference)"
   ]
  },
  {
   "cell_type": "code",
   "execution_count": 85,
   "id": "376275fb-c976-4d17-a75e-581b13565787",
   "metadata": {},
   "outputs": [
    {
     "name": "stdout",
     "output_type": "stream",
     "text": [
      " Students in Course A but not in Course B :  {'Bob', 'John'}\n",
      " Students are only in one course :  {'Bob', 'Eve', 'John', 'Charlie'}\n"
     ]
    }
   ],
   "source": [
    "course_a = {\"John\", \"Alice\", \"Bob\", \"David\"}\n",
    "course_b = {\"Alice\", \"Eve\", \"Charlie\", \"David\"}\n",
    "\n",
    "# Answer point1    Find the students who are in \"Course A\" but not in \"Course B\"\n",
    "only_in_course_a = course_a - course_b\n",
    "print(\" Students in Course A but not in Course B : \", only_in_course_a)\n",
    "\n",
    "# Answer point2    students are only in one course\n",
    "students_only_in_one_courses = course_a ^ course_b\n",
    "print(\" Students are only in one course : \", students_only_in_one_courses)\n",
    "\n"
   ]
  },
  {
   "cell_type": "markdown",
   "id": "85165723-e9a8-4b97-b2b1-2f0943dc840a",
   "metadata": {},
   "source": [
    "###### Q6. Write a Python program that calculates the sum of all even numbers between 1 and 50 (inclusive) using a for loop.\n",
    "###### Hint\n",
    "###### 1. Initialize a variable to hold the sum (e.g., sum_of_evens).\n",
    "###### 2. Use a for loop to iterate through all numbers from 1 to 50.\n",
    "###### 3. Inside the loop, check if the number is even.\n",
    "###### 4. If the number is even, add it to sum_of_evens.\n",
    "###### 5. After the loop finishes, print the total sum of all even numbers between 1 and 50."
   ]
  },
  {
   "cell_type": "code",
   "execution_count": 100,
   "id": "8de052e7-1656-4d08-956a-f4eb395e4242",
   "metadata": {},
   "outputs": [
    {
     "name": "stdout",
     "output_type": "stream",
     "text": [
      "Sum of all even numbers between 1 and 50 is 650\n"
     ]
    }
   ],
   "source": [
    "sum_of_evens = 0\n",
    "\n",
    "for num in range(1,51):\n",
    "    if num % 2 == 0:\n",
    "        sum_of_evens += num\n",
    "print(f\"Sum of all even numbers between 1 and 50 is {sum_of_evens}\")"
   ]
  },
  {
   "cell_type": "markdown",
   "id": "182cd4bc-1751-4b60-a1d3-8735cdbf822e",
   "metadata": {},
   "source": [
    "#### Q7. Write a Python program that prints the multiplication table for a given number (between 1 and 10) using a for loop.\n",
    "Hint:\n",
    "##### 1. Ask the user for a number between 1 and 10 .\n",
    "###### 2. Use a for loop to iterate through the numbers from 1 to 10.\n",
    "###### 3. For each iteration, calculate the product of the given number and the current number in the \n",
    "###### loop.\n",
    "###### 4. Print the result in a readable format (e.g., 5 x 1 = 5).\n",
    "###### 5. Ensure the program works correctly for any number between 1 and 10.\n",
    "###### Output Hint:\n",
    "######  4 x 1 = 4\n",
    "######  4 x 2 = 8\n",
    "######  4 x 3 = 12\n",
    "######  4 x 4 = 16\n",
    "######  4 x 5 = 20\n",
    "######  4 x 6 = 24\n",
    "######  4 x 7 = 28\n",
    "######  4 x 8 = 32\n",
    "######  4 x 9 = 36\n",
    "######  4 x 10 = 40"
   ]
  },
  {
   "cell_type": "code",
   "execution_count": 126,
   "id": "98981f7a-e440-4fd6-99a5-dbd0850784ee",
   "metadata": {},
   "outputs": [
    {
     "name": "stdin",
     "output_type": "stream",
     "text": [
      " Enter number between 1 and 10 :  2\n"
     ]
    },
    {
     "name": "stdout",
     "output_type": "stream",
     "text": [
      "2 x 1 = 2\n",
      "2 x 2 = 4\n",
      "2 x 3 = 6\n",
      "2 x 4 = 8\n",
      "2 x 5 = 10\n",
      "2 x 6 = 12\n",
      "2 x 7 = 14\n",
      "2 x 8 = 16\n",
      "2 x 9 = 18\n",
      "2 x 10 = 20\n"
     ]
    }
   ],
   "source": [
    "num = int(input(\" Enter number between 1 and 10 : \"))\n",
    "if num >0 and num<=10:\n",
    "    for i in range(num,num*11,num):\n",
    "        print(f\"{num} x {i//num} = {i}\")\n",
    "else:\n",
    "    print(\"number is out of range\")"
   ]
  },
  {
   "cell_type": "markdown",
   "id": "b22e2014-30af-4d68-87f2-e342487211da",
   "metadata": {},
   "source": [
    "###### Q8. Power of a Number\n",
    "###### Write a Python program that takes a number and prints the powers of the number (starting from 1 to 10) using a while loop. For example, if the user inputs 3, the output should be:\n",
    "###### 3^1 = 3\n",
    "##### 3^2 = 9\n",
    "###### 3^3 = 27\n",
    "###### ... up to 3^10."
   ]
  },
  {
   "cell_type": "code",
   "execution_count": 128,
   "id": "56eaf3a9-6fb8-4598-a26c-f37c57f63afa",
   "metadata": {},
   "outputs": [
    {
     "name": "stdin",
     "output_type": "stream",
     "text": [
      "you number is :  2\n"
     ]
    },
    {
     "name": "stdout",
     "output_type": "stream",
     "text": [
      "2 ^ 1 = 2\n",
      "2 ^ 2 = 4\n",
      "2 ^ 3 = 8\n",
      "2 ^ 4 = 16\n",
      "2 ^ 5 = 32\n",
      "2 ^ 6 = 64\n",
      "2 ^ 7 = 128\n",
      "2 ^ 8 = 256\n",
      "2 ^ 9 = 512\n",
      "2 ^ 10 = 1024\n"
     ]
    }
   ],
   "source": [
    "num = int(input(\"you number is : \"))\n",
    "power = 1\n",
    "while power <= 10:\n",
    "    result = num**power\n",
    "    print(f\"{num} ^ {power} = {result}\")\n",
    "    power += 1\n",
    "    \n"
   ]
  },
  {
   "cell_type": "markdown",
   "id": "f5f33935-68d4-4468-b4ca-0a1bf6206ea8",
   "metadata": {},
   "source": [
    "######  Q9.  Problem Statement: Write a Python program that takes an integer input from the user and counts down from that number to 0. The program should display the current number at each step until it reaches 0, at which point it should print a message indicating the countdown is finished\n",
    "######  Output Hint:\n",
    "###### Enter a number to start the countdown:  3\n",
    "###### 3\n",
    "###### 2\n",
    "###### 1\n",
    "###### 0\n",
    "###### Countdown finished!"
   ]
  },
  {
   "cell_type": "code",
   "execution_count": 131,
   "id": "0e2fb5b3-43ff-4b75-943b-09949c747661",
   "metadata": {},
   "outputs": [
    {
     "name": "stdin",
     "output_type": "stream",
     "text": [
      "Enter a number :  5\n"
     ]
    },
    {
     "name": "stdout",
     "output_type": "stream",
     "text": [
      "5\n",
      "4\n",
      "3\n",
      "2\n",
      "1\n",
      "0\n",
      "Countdown finished!\n"
     ]
    }
   ],
   "source": [
    "num =  int(input(\"Enter a number : \"))\n",
    "while num >=0:\n",
    "    print(num)\n",
    "    num = num-1\n",
    "    # number -= 1\n",
    "        \n",
    "print(\"Countdown finished!\")\n"
   ]
  },
  {
   "cell_type": "markdown",
   "id": "e9787fc4-c210-4cad-8054-ed8ac364d266",
   "metadata": {},
   "source": [
    "###### Q10. Write a Python program that takes an integer input n from the user and generates a right-angled triangle pattern of stars (*) with n rows. The first row should contain 1 star, the second row 2 stars, the third row 3 stars, and so on until the nth row.\n",
    "###### Ensure spaces separate the stars in each row, and each row starts on a new line.\n",
    "###### Pattern:\n",
    "###### *\n",
    "###### **\n",
    "###### ***\n",
    "###### ****\n",
    "###### *****"
   ]
  },
  {
   "cell_type": "code",
   "execution_count": 140,
   "id": "22fbddc2-4aa3-4f28-b70b-248cb0fe4122",
   "metadata": {},
   "outputs": [
    {
     "name": "stdin",
     "output_type": "stream",
     "text": [
      "enter a number  6\n"
     ]
    },
    {
     "name": "stdout",
     "output_type": "stream",
     "text": [
      " *\n",
      " * *\n",
      " * * *\n",
      " * * * *\n",
      " * * * * *\n",
      " * * * * * *\n"
     ]
    }
   ],
   "source": [
    "n = int(input(\"enter a number \" ))\n",
    "for i in range(1,n+1):\n",
    "    print(\" *\"*i)\n",
    "    "
   ]
  },
  {
   "cell_type": "code",
   "execution_count": null,
   "id": "ed56eb4e-2ee8-4907-a9f3-6cc4364450ee",
   "metadata": {},
   "outputs": [],
   "source": []
  }
 ],
 "metadata": {
  "kernelspec": {
   "display_name": "Python 3 (ipykernel)",
   "language": "python",
   "name": "python3"
  },
  "language_info": {
   "codemirror_mode": {
    "name": "ipython",
    "version": 3
   },
   "file_extension": ".py",
   "mimetype": "text/x-python",
   "name": "python",
   "nbconvert_exporter": "python",
   "pygments_lexer": "ipython3",
   "version": "3.12.7"
  }
 },
 "nbformat": 4,
 "nbformat_minor": 5
}
