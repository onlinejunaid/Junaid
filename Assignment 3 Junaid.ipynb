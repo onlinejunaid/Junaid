{
 "cells": [
  {
   "cell_type": "markdown",
   "id": "0d7aaede-8028-4c84-897a-801f502ea675",
   "metadata": {},
   "source": [
    "#### Q1. Write a program to check a person’s eligibility for a loan based on age, credit score, and income. This time, the eligibility criteria will be:\n",
    "##### The person must be 18 years or older. The person must have a credit score of 650 or higher. The person must have an annual income of at least 30000 dollars If the person has a credit score of 700 or higher, they may still be eligible with an income of 25000 dollars or more."
   ]
  },
  {
   "cell_type": "code",
   "execution_count": 2,
   "id": "66d3c2e0-dac4-4d82-bb39-ede9a3899f3b",
   "metadata": {},
   "outputs": [
    {
     "name": "stdin",
     "output_type": "stream",
     "text": [
      "Enter age:  20\n",
      "Enter age:  100\n",
      "Enter age:  700\n"
     ]
    },
    {
     "name": "stdout",
     "output_type": "stream",
     "text": [
      "not Eligible for loan\n"
     ]
    }
   ],
   "source": [
    "age = int(input(\"Enter age: \"))\n",
    "credit_score = int(input(\"Enter Credit Score: \"))\n",
    "income = int(input(\"Enter Income: \"))\n",
    "if age >= 18 and credit_score >=650 and income>=30000:\n",
    "    print(\"Eligible for Loan\")\n",
    "if credit_score >=700 and income>=25000:\n",
    "    print(\"Eligible for loan\")\n",
    "else:\n",
    "    print(\"not Eligible for loan\")\n",
    "    "
   ]
  },
  {
   "cell_type": "markdown",
   "id": "9f6fcdc3-bc1f-4165-8834-1a72e4526e01",
   "metadata": {},
   "source": [
    "#### Q2. Write a Python program that checks if a person is an adult (age ≥ 18).\n",
    "###### Take the age as input.\n",
    "###### If the person is underage (age < 18), show message: \"You are underage\" and don't ask for experience.\n",
    "###### If the person is an adult, take years of experience as input and print:\n",
    "###### \"You have a lot of experience.\" (10+ years)\n",
    "###### \"You have moderate experience.\" (5-9 years)\n",
    "###### \"You are relatively new.\" (2-4 years)\n",
    "###### \"You are just starting out.\" (less than 2 years)"
   ]
  },
  {
   "cell_type": "code",
   "execution_count": 4,
   "id": "34b6f678-c1d7-46a4-8f4e-68e7d24fe09a",
   "metadata": {},
   "outputs": [
    {
     "name": "stdin",
     "output_type": "stream",
     "text": [
      "Enter age:  18\n",
      "Enter Experience:  15.4\n"
     ]
    },
    {
     "name": "stdout",
     "output_type": "stream",
     "text": [
      "You have a lot of experience\n"
     ]
    }
   ],
   "source": [
    "age = int(input(\"Enter age: \"))\n",
    "if age < 18:\n",
    "    print(\"you are underage\")\n",
    "else:\n",
    "    exp = float(input(\"Enter Experience: \"))\n",
    "    if exp >=10:\n",
    "        print(\"You have a lot of experience\")\n",
    "    elif exp >=5 and exp <=9:\n",
    "        print(\"You have moderate experience\")\n",
    "    elif 2 <= exp <= 4:\n",
    "        print(\"You are relatively new\")\n",
    "    else:\n",
    "        print(\"You are just starting out\")\n"
   ]
  },
  {
   "cell_type": "markdown",
   "id": "db5d0dcd-4392-4cf7-bc4e-f44d73490ad1",
   "metadata": {},
   "source": [
    "#### Q3. Write a program to explore below variables\n",
    "##### a) Print their memory address (to check if python assigns same address of different variables having same element)\n",
    "##### b) Find memory size and append them in a list, use this list to find data type having least memory size\n",
    "##### c) Print final name of data type which has lowest memory\n",
    "##### Result will help a programmer to decide which variable is storing less memory and variable locations"
   ]
  },
  {
   "cell_type": "code",
   "execution_count": null,
   "id": "77dbed18-906d-43e2-acc4-44155529c510",
   "metadata": {},
   "outputs": [],
   "source": [
    "##### Answer point a\n",
    "\n",
    "# Testing with integers\n",
    "a = 10\n",
    "b = 10\n",
    "\n",
    "# Testing with strings\n",
    "x = \"hello\"\n",
    "y = \"hello\"\n",
    "\n",
    "# Testing with lists\n",
    "list1 = [1, 2, 3]\n",
    "list2 = [1, 2, 3]\n",
    "\n",
    "# Printing memory addresses\n",
    "print(\"Memory address of integer1: \", id(a))\n",
    "print(\"Memory address of integer2: \", id(b))\n",
    "print(\"Memory address of string1: \", id(x))\n",
    "print(\"Memory address of string2: \", id(y))\n",
    "print(\"Memory address of list1: \", id(list1))\n",
    "print(\"Memory address of list2: \", id(list2))\n"
   ]
  },
  {
   "cell_type": "code",
   "execution_count": 38,
   "id": "2c83e00a-e5e2-4690-8f50-5144096402d3",
   "metadata": {},
   "outputs": [
    {
     "name": "stdout",
     "output_type": "stream",
     "text": [
      "Memory address of Integer (700):  1542594543504\n",
      "Memory address of Float (50.74):  1542593763504\n",
      "Memory address of String ('Jupyter'):  1542485581792\n",
      "Memory address of List ([1, 2, 3]):  1542594304320\n",
      "Memory address of Tuple ((1, 2, 3)):  1542595190784\n",
      "\n",
      "Data type with the least memory size is :  Float  with  24  bytes\n"
     ]
    }
   ],
   "source": [
    "##### Answer point b\n",
    "\n",
    "import sys\n",
    "\n",
    "data_types = [\"Integer\", \"Float\", \"String\", \"List\", \"Tuple\"]\n",
    "\n",
    "\n",
    "variable1= 780               \n",
    "variable2 = 50.74              \n",
    "variable3 = \"Jupyter\"    \n",
    "variable4 = [1, 2, 3]          \n",
    "variable5 = (1, 2, 3)            \n",
    "\n",
    "print(\"Memory address of Integer (700): \" , id(variable1))\n",
    "print(\"Memory address of Float (50.74): \" , id(variable2))\n",
    "print(\"Memory address of String ('Jupyter'): \" , id(variable3))\n",
    "print(\"Memory address of List ([1, 2, 3]): \" , id(variable4))\n",
    "print(\"Memory address of Tuple ((1, 2, 3)): \" , id(variable5))\n",
    "\n",
    "memory_sizes = [\n",
    "    sys.getsizeof(variable1),  \n",
    "    sys.getsizeof(variable2),  \n",
    "    sys.getsizeof(variable3), \n",
    "    sys.getsizeof(variable4),  \n",
    "    sys.getsizeof(variable5), \n",
    "]\n",
    "min_memory = min(memory_sizes)  \n",
    "min_memory_index = memory_sizes.index(min_memory)  \n",
    "\n",
    "# answer point c\n",
    "print(\"\\nData type with the least memory size is : \" , data_types[min_memory_index] , \" with \" , str(min_memory) , \" bytes\")"
   ]
  },
  {
   "cell_type": "markdown",
   "id": "ab48a4e4-59c0-47ed-96bd-cb6bf36746b0",
   "metadata": {},
   "source": [
    "#### Q4. Write a Python program that asks the user to enter an email address. The program should check if the email \n",
    "##### contains the characters @ and \".\" (ignoring case). If either character is present, print \"Email format is valid.\" Otherwise, print \"Invalid email format.\""
   ]
  },
  {
   "cell_type": "code",
   "execution_count": 41,
   "id": "ab0847c7-a080-439e-bc31-c5fee434b921",
   "metadata": {},
   "outputs": [
    {
     "name": "stdin",
     "output_type": "stream",
     "text": [
      "Enter email address :  cfdf@.\n"
     ]
    },
    {
     "name": "stdout",
     "output_type": "stream",
     "text": [
      "Email format is valid\n"
     ]
    }
   ],
   "source": [
    "email = input(\"Enter email address : \")\n",
    "if '@' in email and '.' in email:\n",
    "    print(\"Email format is valid\")\n",
    "else:\n",
    "    print(\"Invalid email address\")\n"
   ]
  },
  {
   "cell_type": "markdown",
   "id": "c59f8fd1-eac8-4490-b661-1e7102a73409",
   "metadata": {},
   "source": [
    "#### Q5. Write a python program to know data type of each element stored in a tuple, append the data types in a list. \n",
    "##### Show final output in a list as data types of tuple elements\n",
    "##### x = (11,22.333,'apple',[1,2,3],('a','b'))"
   ]
  },
  {
   "cell_type": "code",
   "execution_count": 17,
   "id": "e9833ce7-74f6-487f-a04f-a5d80f0d2d0e",
   "metadata": {},
   "outputs": [
    {
     "name": "stdout",
     "output_type": "stream",
     "text": [
      "<class 'int'>\n",
      "<class 'float'>\n",
      "<class 'str'>\n",
      "<class 'list'>\n",
      "<class 'tuple'>\n",
      "\n",
      "\n",
      "Data types of tuple elements: [<class 'int'>, <class 'float'>, <class 'str'>, <class 'list'>, <class 'tuple'>]\n"
     ]
    }
   ],
   "source": [
    "x = (11, 22.333, 'apple', [1, 2, 3], ('a', 'b'))\n",
    "\n",
    "print(type(x[0]))\n",
    "print(type(x[1]))\n",
    "print(type(x[2]))\n",
    "print(type(x[3]))\n",
    "print(type(x[4]))\n",
    "\n",
    "print(\"\\n\")\n",
    "data_types = [type(x[0]), type(x[1]), type(x[2]), type(x[3]), type(x[4])]\n",
    "\n",
    "print(\"Data types of tuple elements:\", data_types)"
   ]
  },
  {
   "cell_type": "markdown",
   "id": "e1793b3c-b098-41c6-b808-4c10e9efad34",
   "metadata": {},
   "source": [
    "#### Q6. Write a Python program that:\n",
    "##### Checks if a given username exists in a list of active users.\n",
    "##### Verifies if the user is the admin using identity operators.\n",
    "##### Hints:\n",
    "##### Use a list of tuples where each tuple contains a username and role\n",
    "##### [(\"alice\", \"admin\"),\n",
    "##### (\"bob\", \"user\"),\n",
    "##### (\"charlie\", \"moderator\")]\n",
    "##### Use the in operator to check if the username exists in the list.\n",
    "##### Use the is operator to check if the user is the admin (admin is a specific reference, e.g., (\"alice\", \"admin\"))."
   ]
  },
  {
   "cell_type": "code",
   "execution_count": 45,
   "id": "522b5dc6-4a00-40ea-99b4-9feba4c546a1",
   "metadata": {},
   "outputs": [
    {
     "name": "stdin",
     "output_type": "stream",
     "text": [
      "Enter your username:  bob\n"
     ]
    },
    {
     "name": "stdout",
     "output_type": "stream",
     "text": [
      "Welcome USER NAME  bob Exist in a list\n"
     ]
    }
   ],
   "source": [
    "username = input(\"Enter your username: \")\n",
    "active_users = [(\"alice\", \"admin\"), (\"bob\", \"user\"), (\"charlie\", \"moderator\")]\n",
    "\n",
    "if username in active_users[0][0] or username in active_users[1][0] or username in active_users[2][0]:\n",
    "    print(\"Welcome USER NAME \" , username, \"Exist in a list\")\n",
    "else:\n",
    "    print(\"USER NAME \", username , \"not exist in a list\")\n"
   ]
  },
  {
   "cell_type": "code",
   "execution_count": 83,
   "id": "bdbb053d-fdee-444c-af78-ad758efe0df6",
   "metadata": {},
   "outputs": [
    {
     "name": "stdin",
     "output_type": "stream",
     "text": [
      "Enter your username:  alice\n"
     ]
    },
    {
     "name": "stdout",
     "output_type": "stream",
     "text": [
      "Welcome alice you are admin\n"
     ]
    }
   ],
   "source": [
    "username = input(\"Enter your username: \")\n",
    "active_users = [(\"alice\", \"admin\"), (\"bob\", \"user\"), (\"charlie\", \"moderator\")]\n",
    "\n",
    "user_tuple = None\n",
    "\n",
    "if username == active_users[0][0]:\n",
    "    user_tuple = active_users[0]\n",
    "elif username == active_users[1][0]:\n",
    "    user_tuple = active_users[1]\n",
    "elif username == active_users[2][0]:\n",
    "    user_tuple = active_users[2]\n",
    "\n",
    "if user_tuple:\n",
    "    if user_tuple is active_users[0]:\n",
    "        print(\"Welcome\" , username, \"you are admin\")\n",
    "    elif user_tuple is active.users[1]:\n",
    "        print(\"Welcome\" , username , \"you are not admin\")\n",
    "    elif user_tuple is active_users[2]:\n",
    "        print(\"welcome\", username , \"you are moderator\")\n",
    "else:\n",
    "    print(username , \"user not exist\")"
   ]
  },
  {
   "cell_type": "markdown",
   "id": "99c402fa-16e9-427f-83b6-c3605bcf6271",
   "metadata": {},
   "source": [
    "#### Q7. person1 has same family as of person2, write a program to print relation between person1 and person2, if their \n",
    "##### data is ['father name','mother name','district','family number'] same (Print relation 'Siblings') also check person1 \n",
    "##### data with person3 which is cousin of person1 (Print relation 'Cousin')\n",
    "##### Hint:\n",
    "##### Use identity operator"
   ]
  },
  {
   "cell_type": "code",
   "execution_count": 135,
   "id": "3be4ac71-e699-45ca-a7ae-5b9e0598f7b2",
   "metadata": {},
   "outputs": [
    {
     "name": "stdout",
     "output_type": "stream",
     "text": [
      "Relationship between person1 and person2 : Siblings\n",
      "Relationship between person1 and person3 : Cousin\n"
     ]
    }
   ],
   "source": [
    "family_person1 = ['father name','mother name','district','family number']\n",
    "person1 = ['Kashif' , 'Ayesha' , 'Korangi' , 10 ]\n",
    "person2 = person1\n",
    "person3 = ['Kashif' , 'Ayesha' , 'Korangi' , 15 ]\n",
    "\n",
    "if person1 is person2:\n",
    "    print(\"Relationship between person1 and person2 : Siblings\")\n",
    "    if person1 is not person3:\n",
    "        print(\"Relationship between person1 and person3 : Cousin\")"
   ]
  },
  {
   "cell_type": "markdown",
   "id": "e7a9c7da-8f14-410c-8dae-27ac0836c176",
   "metadata": {},
   "source": [
    "#### Q8. Write a Python program to store and display a book's title, author, year of publication, and price using a tuple.Instructions:\n",
    "##### Create a tuple to store the book details.\n",
    "##### Ask the user for the book's title, author, year, and price.\n",
    "##### Display the stored book information."
   ]
  },
  {
   "cell_type": "code",
   "execution_count": 153,
   "id": "36466722-6fa4-44a8-94a2-4f11d8bd5513",
   "metadata": {},
   "outputs": [
    {
     "name": "stdin",
     "output_type": "stream",
     "text": [
      "Enter Book's Title :  Learning Phython\n",
      "Enter Author Name:  Junaid Khan\n",
      "Enter Year 2024\n",
      "Enter Price 15000\n"
     ]
    },
    {
     "name": "stdout",
     "output_type": "stream",
     "text": [
      "\n",
      "\n",
      "Book Title:  Learning Phython\n",
      "Book Auther name:  Junaid Khan\n",
      "Book Year:  2024\n",
      "Book Price: Rs.  15000\n"
     ]
    }
   ],
   "source": [
    "title = input(\"Enter Book's Title : \")\n",
    "author = input(\"Enter Author Name: \")\n",
    "year = int(input(\"Enter Year\"))\n",
    "price = int(input(\"Enter Price\"))\n",
    "tuple = (title , author , year , price)\n",
    "\n",
    "print(\"\\n\")\n",
    "print(\"Book Title: \", tuple[0])\n",
    "print(\"Book Auther name: \", tuple[1])\n",
    "print(\"Book Year: \", tuple[2])\n",
    "print(\"Book Price: Rs.\", tuple[3])\n"
   ]
  },
  {
   "cell_type": "markdown",
   "id": "4f14aed0-6466-46d8-beb3-1e0dd587d918",
   "metadata": {},
   "source": [
    "#### Q9. Write a program to check if a user’s chosen subject is available in the list of offered subjects.\n",
    "##### Instructions:\n",
    "##### Given a list of subjects, ask the user to input a subject.\n",
    "##### Display whether the subject is available or not."
   ]
  },
  {
   "cell_type": "code",
   "execution_count": 98,
   "id": "833c7bbf-27cf-45da-8908-6e90df463c28",
   "metadata": {},
   "outputs": [
    {
     "name": "stdout",
     "output_type": "stream",
     "text": [
      "english\n",
      "urdu\n",
      "math\n",
      "islamiat\n",
      "science\n"
     ]
    },
    {
     "name": "stdin",
     "output_type": "stream",
     "text": [
      " Subject name please :  MATH\n"
     ]
    },
    {
     "name": "stdout",
     "output_type": "stream",
     "text": [
      "You have selected :  math\n"
     ]
    }
   ],
   "source": [
    "subjects = ['english' , 'urdu' , 'math' , 'islamiat' , 'science' ]\n",
    "print(subjects[0])\n",
    "print(subjects[1])\n",
    "print(subjects[2])\n",
    "print(subjects[3])\n",
    "print(subjects[4])\n",
    "\n",
    "offered = input(\" Subject name please : \").lower()\n",
    "if offered in subjects:\n",
    "    print(\"You have selected : \", offered)\n",
    "else:\n",
    "    print(\"invalid subject\")"
   ]
  },
  {
   "cell_type": "markdown",
   "id": "dae543f6-dc1a-48a1-a580-004b67a90b91",
   "metadata": {},
   "source": [
    "#### Q10. Write a Python program that performs the following tasks using tuple methods\n",
    "##### Create a tuple with multiple integer values, including duplicates.\n",
    "##### Prompt the user to input a number and find the index of its first occurrence in the tuple.\n",
    "##### Ask the user for another number and count how many times it appears in the tuple.\n",
    "##### Display appropriate messages based on the results"
   ]
  },
  {
   "cell_type": "code",
   "execution_count": 160,
   "id": "37937c30-f40c-4cee-a5c4-8f2c2f5bc640",
   "metadata": {},
   "outputs": [
    {
     "name": "stdin",
     "output_type": "stream",
     "text": [
      "Enter a integer number :  80\n"
     ]
    },
    {
     "name": "stdout",
     "output_type": "stream",
     "text": [
      "Your input number is 80 and index of its first occurance in the tuple is 3\n"
     ]
    },
    {
     "name": "stdin",
     "output_type": "stream",
     "text": [
      "Enter another integer number :  50\n"
     ]
    },
    {
     "name": "stdout",
     "output_type": "stream",
     "text": [
      "Your input number is 50 and index of its first occurance in the tuple is 3\n"
     ]
    }
   ],
   "source": [
    "tuple_values = (50 , 40 , 50 , 80, 70 , 90 , 50 , 85)\n",
    "# print(tuple_values)\n",
    "\n",
    "user_input1 = int((input(\"Enter a integer number : \")))\n",
    "\n",
    "if user_input1 in tuple_values:\n",
    "    user_index1 = tuple_values.index(user_input1)\n",
    "    print(f\"Your input number is {user_input1} and index of its first occurance in the tuple is {user_index1}\")\n",
    "\n",
    "\n",
    "user_input2 = int((input(\"Enter another integer number : \")))\n",
    "\n",
    "if user_input2 in tuple_values:\n",
    "    count = tuple_values.count(user_input2)\n",
    "    print(f\"Your input number is {user_input2} and index of its first occurance in the tuple is {count}\")\n",
    "\n"
   ]
  },
  {
   "cell_type": "markdown",
   "id": "bdda11cc-6420-4252-a86c-76fa0479209f",
   "metadata": {},
   "source": [
    "#### Question for Hard working learners (Not Mandatory)\n",
    "##### Write a Python program that asks the user to enter the current temperature in Celsius and checks whether it's freezing, normal, or hot based on predefined temperature values.\"\n",
    "##### Assignment Requirements:\n",
    "##### Input: The user will be asked to enter the current temperature in Celsius.\n",
    "##### Predefined values:  Freezing: -5    Normal: 25     Hot: 40"
   ]
  },
  {
   "cell_type": "code",
   "execution_count": null,
   "id": "36200276-8ee7-44cd-82f3-8cf4bb2787b0",
   "metadata": {},
   "outputs": [],
   "source": [
    "freezing = -5\n",
    "normal = 25\n",
    "hot = 40\n",
    "\n",
    "current_temp = float(input(\"Enter the current temperature in Celsius: \"))\n",
    "\n",
    "if current_temp <= freezing:\n",
    "    print(\"The temperature is freezing.\")\n",
    "elif current_temp <= normal:\n",
    "    print(\"The temperature is normal.\")\n",
    "elif current_temp >= hot:\n",
    "    print(\"The temperature is hot.\")\n",
    "else:\n",
    "    print(\"The temperature is within the normal range.\")\n"
   ]
  }
 ],
 "metadata": {
  "kernelspec": {
   "display_name": "Python 3 (ipykernel)",
   "language": "python",
   "name": "python3"
  },
  "language_info": {
   "codemirror_mode": {
    "name": "ipython",
    "version": 3
   },
   "file_extension": ".py",
   "mimetype": "text/x-python",
   "name": "python",
   "nbconvert_exporter": "python",
   "pygments_lexer": "ipython3",
   "version": "3.12.7"
  }
 },
 "nbformat": 4,
 "nbformat_minor": 5
}
