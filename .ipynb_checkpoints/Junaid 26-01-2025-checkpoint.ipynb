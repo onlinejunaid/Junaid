{
 "cells": [
  {
   "cell_type": "code",
   "execution_count": null,
   "id": "024f55db-cacb-4c75-84a6-c52602509fcc",
   "metadata": {},
   "outputs": [],
   "source": []
  },
  {
   "cell_type": "code",
   "execution_count": 1,
   "id": "70d68c24-dc26-4f92-b2a0-55d99547243c",
   "metadata": {},
   "outputs": [
    {
     "name": "stdout",
     "output_type": "stream",
     "text": [
      "Question 1: Which city is capital  of pakistan?\n",
      "1 karachi\n",
      "2 lahore\n",
      "3 islamabad\n",
      "4 multan\n"
     ]
    },
    {
     "name": "stdin",
     "output_type": "stream",
     "text": [
      "enter   islamabad\n"
     ]
    },
    {
     "data": {
      "text/plain": [
       "1"
      ]
     },
     "execution_count": 1,
     "metadata": {},
     "output_type": "execute_result"
    }
   ],
   "source": [
    "print(\"Question 1: Which city is capital  of pakistan?\")\n",
    "\n",
    "cities = [\"karachi\",\"lahore\",\"islamabad\",\"multan\"]\n",
    "for a, city in enumerate(cities):\n",
    "    \n",
    "    print(a+1,city)\n",
    "\n",
    "sum = 0\n",
    "num = input(\"enter  \")\n",
    "if cities[2]==num:\n",
    "    sum = sum +1\n",
    "else:\n",
    "    print(\"no\")\n",
    "sum"
   ]
  },
  {
   "cell_type": "code",
   "execution_count": 2,
   "id": "d40e8ad0-87f8-4234-9232-16efe9aebd83",
   "metadata": {},
   "outputs": [
    {
     "name": "stdout",
     "output_type": "stream",
     "text": [
      "Question2: which mobile is number one?\n",
      "1 nokia\n",
      "2 sony\n",
      "3 samsung\n",
      "4 redmi\n"
     ]
    },
    {
     "name": "stdin",
     "output_type": "stream",
     "text": [
      "enter mobile name  redmi\n"
     ]
    },
    {
     "data": {
      "text/plain": [
       "2"
      ]
     },
     "execution_count": 2,
     "metadata": {},
     "output_type": "execute_result"
    }
   ],
   "source": [
    "mobiles = [\"nokia\",\"sony\",\"samsung\",\"redmi\"]\n",
    "print(\"Question2: which mobile is number one?\")\n",
    "for a, mobile in enumerate(mobiles):\n",
    "    print(a+1,mobile)\n",
    "\n",
    "\n",
    "num2 = input(\"enter mobile name \")\n",
    "if mobiles[3]==num2:\n",
    "    sum = sum +1\n",
    "else:\n",
    "    print(\"no\")\n",
    "sum\n"
   ]
  },
  {
   "cell_type": "code",
   "execution_count": 3,
   "id": "31815048-9d42-421b-894e-f37f3cc6d7c4",
   "metadata": {},
   "outputs": [
    {
     "name": "stdout",
     "output_type": "stream",
     "text": [
      "Question3: Favourit Poet of Pakistan\n",
      "1 Mir Dard\n",
      "2 Allama iqbal\n",
      "3 ahmed Faraz\n",
      "4 ghalib\n"
     ]
    },
    {
     "name": "stdin",
     "output_type": "stream",
     "text": [
      "enter mobile name  mir dard\n"
     ]
    },
    {
     "name": "stdout",
     "output_type": "stream",
     "text": [
      "no\n"
     ]
    },
    {
     "data": {
      "text/plain": [
       "2"
      ]
     },
     "execution_count": 3,
     "metadata": {},
     "output_type": "execute_result"
    }
   ],
   "source": [
    "mobiles = [\"Mir Dard\",\"Allama iqbal\",\"ahmed Faraz\",\"ghalib\"]\n",
    "print(\"Question3: Favourit Poet of Pakistan\")\n",
    "for a, mobile in enumerate(mobiles):\n",
    "    print(a+1,mobile)\n",
    "\n",
    "\n",
    "num2 = input(\"enter mobile name \")\n",
    "if mobiles[1]==num2:\n",
    "    sum = sum +1\n",
    "else:\n",
    "    print(\"no\")\n",
    "sum"
   ]
  },
  {
   "cell_type": "code",
   "execution_count": 4,
   "id": "c2434c5c-c02f-4bab-92b3-4252a9ad1079",
   "metadata": {},
   "outputs": [
    {
     "name": "stdout",
     "output_type": "stream",
     "text": [
      "Question4: choose the correct answer? answer is 60\n",
      "1 8+5\n",
      "2 3+9\n",
      "3 100-50\n",
      "4 70-10\n"
     ]
    },
    {
     "name": "stdin",
     "output_type": "stream",
     "text": [
      "enter mobile name  60\n"
     ]
    },
    {
     "name": "stdout",
     "output_type": "stream",
     "text": [
      "wronge answer\n"
     ]
    },
    {
     "data": {
      "text/plain": [
       "2"
      ]
     },
     "execution_count": 4,
     "metadata": {},
     "output_type": "execute_result"
    }
   ],
   "source": [
    "sum_numbers = [\"8+5\",\"3+9\",\"100-50\",\"70-10\"]\n",
    "print(\"Question4: choose the correct answer? answer is 60\")\n",
    "for a, mobile in enumerate(sum_numbers):\n",
    "    print(a+1,mobile)\n",
    "\n",
    "\n",
    "num2 = input(\"enter mobile name \")\n",
    "if sum_numbers[3]==num2:\n",
    "    sum = sum +1\n",
    "else:\n",
    "    print(\"wronge answer\")\n",
    "sum"
   ]
  },
  {
   "cell_type": "code",
   "execution_count": 5,
   "id": "5e7ea4a4-91ad-4d48-91d8-310c3dd54a1c",
   "metadata": {},
   "outputs": [
    {
     "name": "stdout",
     "output_type": "stream",
     "text": [
      "Question5: which mobile is number one?\n",
      "1 nokia\n",
      "2 sony\n",
      "3 samsung\n",
      "4 redmi\n"
     ]
    },
    {
     "name": "stdin",
     "output_type": "stream",
     "text": [
      "enter mobile name  redmi\n"
     ]
    },
    {
     "data": {
      "text/plain": [
       "3"
      ]
     },
     "execution_count": 5,
     "metadata": {},
     "output_type": "execute_result"
    }
   ],
   "source": [
    "mobiles = [\"nokia\",\"sony\",\"samsung\",\"redmi\"]\n",
    "print(\"Question5: which mobile is number one?\")\n",
    "for a, mobile in enumerate(mobiles):\n",
    "    print(a+1,mobile)\n",
    "\n",
    "\n",
    "num3 = input(\"enter mobile name \")\n",
    "if mobiles[3]==num3:\n",
    "    sum = sum +1\n",
    "else:\n",
    "    print(\"no\")\n",
    "sum"
   ]
  },
  {
   "cell_type": "code",
   "execution_count": 6,
   "id": "58cccd88-7f93-4b35-998f-d4427c6b478d",
   "metadata": {},
   "outputs": [
    {
     "name": "stdout",
     "output_type": "stream",
     "text": [
      "Question6: which mobile is number one?\n",
      "1 nokia\n",
      "2 sony\n",
      "3 samsung\n",
      "4 redmi\n"
     ]
    },
    {
     "name": "stdin",
     "output_type": "stream",
     "text": [
      "enter mobile name  sdfo\n"
     ]
    },
    {
     "name": "stdout",
     "output_type": "stream",
     "text": [
      "no\n"
     ]
    },
    {
     "data": {
      "text/plain": [
       "3"
      ]
     },
     "execution_count": 6,
     "metadata": {},
     "output_type": "execute_result"
    }
   ],
   "source": [
    "mobiles = [\"nokia\",\"sony\",\"samsung\",\"redmi\"]\n",
    "print(\"Question6: which mobile is number one?\")\n",
    "for a, mobile in enumerate(mobiles):\n",
    "    print(a+1,mobile)\n",
    "\n",
    "\n",
    "num4 = input(\"enter mobile name \")\n",
    "if mobiles[3]==num4:\n",
    "    sum = sum +1\n",
    "else:\n",
    "    print(\"no\")\n",
    "sum"
   ]
  },
  {
   "cell_type": "code",
   "execution_count": 7,
   "id": "d2536db6-56e8-4a16-89f5-9af0be9a2206",
   "metadata": {},
   "outputs": [
    {
     "name": "stdout",
     "output_type": "stream",
     "text": [
      "Question7: which mobile is number one?\n",
      "1 nokia\n",
      "2 sony\n",
      "3 samsung\n",
      "4 redmi\n"
     ]
    },
    {
     "name": "stdin",
     "output_type": "stream",
     "text": [
      "enter mobile name  redmi\n"
     ]
    },
    {
     "data": {
      "text/plain": [
       "4"
      ]
     },
     "execution_count": 7,
     "metadata": {},
     "output_type": "execute_result"
    }
   ],
   "source": [
    "mobiles = [\"nokia\",\"sony\",\"samsung\",\"redmi\"]\n",
    "print(\"Question7: which mobile is number one?\")\n",
    "for a, mobile in enumerate(mobiles):\n",
    "    print(a+1,mobile)\n",
    "\n",
    "\n",
    "num5 = input(\"enter mobile name \")\n",
    "if mobiles[3]==num5:\n",
    "    sum = sum +1\n",
    "else:\n",
    "    print(\"no\")\n",
    "sum"
   ]
  },
  {
   "cell_type": "code",
   "execution_count": 19,
   "id": "6c403128-fa98-4aee-8628-b7150ecd6f20",
   "metadata": {},
   "outputs": [
    {
     "name": "stdout",
     "output_type": "stream",
     "text": [
      "Result: Total Questions 10\n",
      "4 out of 7 is correct\n",
      "40 percent is correct\n"
     ]
    }
   ],
   "source": [
    "print(\"Result: Total Questions 10\")\n",
    "\n",
    "print(f\"{sum} out of 7 is correct\")\n",
    "percentage = int(sum/10*100)\n",
    "print(f\"{percentage} percent is correct\")\n"
   ]
  },
  {
   "cell_type": "code",
   "execution_count": null,
   "id": "f635157e-ea8f-4b15-a106-5d0f941b11b8",
   "metadata": {},
   "outputs": [],
   "source": []
  }
 ],
 "metadata": {
  "kernelspec": {
   "display_name": "Python 3 (ipykernel)",
   "language": "python",
   "name": "python3"
  },
  "language_info": {
   "codemirror_mode": {
    "name": "ipython",
    "version": 3
   },
   "file_extension": ".py",
   "mimetype": "text/x-python",
   "name": "python",
   "nbconvert_exporter": "python",
   "pygments_lexer": "ipython3",
   "version": "3.12.4"
  }
 },
 "nbformat": 4,
 "nbformat_minor": 5
}
