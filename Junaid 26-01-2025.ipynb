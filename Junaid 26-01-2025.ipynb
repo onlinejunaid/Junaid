{
 "cells": [
  {
   "cell_type": "code",
   "execution_count": null,
   "id": "024f55db-cacb-4c75-84a6-c52602509fcc",
   "metadata": {},
   "outputs": [],
   "source": []
  },
  {
   "cell_type": "code",
   "execution_count": 36,
   "id": "70d68c24-dc26-4f92-b2a0-55d99547243c",
   "metadata": {},
   "outputs": [
    {
     "name": "stdout",
     "output_type": "stream",
     "text": [
      "{'Question 1: Which city is capital  of pakistan?'}\n",
      "{'karachi , \\n     lahore , islamabad , multan'}\n"
     ]
    }
   ],
   "source": [
    "# print(\"Question 1: Which city is capital  of pakistan?\")\n",
    "\n",
    "cities = [\n",
    "    {\"Question 1: Which city is capital  of pakistan?\"},\n",
    "     {\"\"\"karachi , \n",
    "     lahore , islamabad , multan\"\"\"}\n",
    "          \n",
    "   \n",
    "         ]\n",
    "for i in cities:\n",
    "    print(i)\n",
    "# kaka = [1,2,3,4]\n",
    "# for a, city in enumerate(cities):\n",
    "    \n",
    "#     print(a+1,city)\n",
    "\n",
    "# sum = 0\n",
    "# num = int(input(\"enter  \"))\n",
    "# if num==3:\n",
    "#     sum = sum + 1\n",
    "#     print(\"Correct!\")\n",
    "# else:\n",
    "#     print(\"no\")\n",
    "# sum"
   ]
  },
  {
   "cell_type": "code",
   "execution_count": 2,
   "id": "d40e8ad0-87f8-4234-9232-16efe9aebd83",
   "metadata": {},
   "outputs": [
    {
     "name": "stdout",
     "output_type": "stream",
     "text": [
      "Question2: which mobile is number one?\n",
      "1 nokia\n",
      "2 sony\n",
      "3 samsung\n",
      "4 redmi\n"
     ]
    },
    {
     "ename": "KeyboardInterrupt",
     "evalue": "Interrupted by user",
     "output_type": "error",
     "traceback": [
      "\u001b[1;31m---------------------------------------------------------------------------\u001b[0m",
      "\u001b[1;31mKeyboardInterrupt\u001b[0m                         Traceback (most recent call last)",
      "Cell \u001b[1;32mIn[2], line 7\u001b[0m\n\u001b[0;32m      3\u001b[0m \u001b[38;5;28;01mfor\u001b[39;00m a, mobile \u001b[38;5;129;01min\u001b[39;00m \u001b[38;5;28menumerate\u001b[39m(mobiles):\n\u001b[0;32m      4\u001b[0m     \u001b[38;5;28mprint\u001b[39m(a\u001b[38;5;241m+\u001b[39m\u001b[38;5;241m1\u001b[39m,mobile)\n\u001b[1;32m----> 7\u001b[0m num2 \u001b[38;5;241m=\u001b[39m \u001b[38;5;28minput\u001b[39m(\u001b[38;5;124m\"\u001b[39m\u001b[38;5;124menter mobile name \u001b[39m\u001b[38;5;124m\"\u001b[39m)\n\u001b[0;32m      8\u001b[0m \u001b[38;5;28;01mif\u001b[39;00m mobiles[\u001b[38;5;241m3\u001b[39m]\u001b[38;5;241m==\u001b[39mnum2:\n\u001b[0;32m      9\u001b[0m     \u001b[38;5;28msum\u001b[39m \u001b[38;5;241m=\u001b[39m \u001b[38;5;28msum\u001b[39m \u001b[38;5;241m+\u001b[39m\u001b[38;5;241m1\u001b[39m\n",
      "File \u001b[1;32m~\\AppData\\Local\\anaconda3\\Lib\\site-packages\\ipykernel\\kernelbase.py:1262\u001b[0m, in \u001b[0;36mKernel.raw_input\u001b[1;34m(self, prompt)\u001b[0m\n\u001b[0;32m   1260\u001b[0m     msg \u001b[38;5;241m=\u001b[39m \u001b[38;5;124m\"\u001b[39m\u001b[38;5;124mraw_input was called, but this frontend does not support input requests.\u001b[39m\u001b[38;5;124m\"\u001b[39m\n\u001b[0;32m   1261\u001b[0m     \u001b[38;5;28;01mraise\u001b[39;00m StdinNotImplementedError(msg)\n\u001b[1;32m-> 1262\u001b[0m \u001b[38;5;28;01mreturn\u001b[39;00m \u001b[38;5;28mself\u001b[39m\u001b[38;5;241m.\u001b[39m_input_request(\n\u001b[0;32m   1263\u001b[0m     \u001b[38;5;28mstr\u001b[39m(prompt),\n\u001b[0;32m   1264\u001b[0m     \u001b[38;5;28mself\u001b[39m\u001b[38;5;241m.\u001b[39m_parent_ident[\u001b[38;5;124m\"\u001b[39m\u001b[38;5;124mshell\u001b[39m\u001b[38;5;124m\"\u001b[39m],\n\u001b[0;32m   1265\u001b[0m     \u001b[38;5;28mself\u001b[39m\u001b[38;5;241m.\u001b[39mget_parent(\u001b[38;5;124m\"\u001b[39m\u001b[38;5;124mshell\u001b[39m\u001b[38;5;124m\"\u001b[39m),\n\u001b[0;32m   1266\u001b[0m     password\u001b[38;5;241m=\u001b[39m\u001b[38;5;28;01mFalse\u001b[39;00m,\n\u001b[0;32m   1267\u001b[0m )\n",
      "File \u001b[1;32m~\\AppData\\Local\\anaconda3\\Lib\\site-packages\\ipykernel\\kernelbase.py:1305\u001b[0m, in \u001b[0;36mKernel._input_request\u001b[1;34m(self, prompt, ident, parent, password)\u001b[0m\n\u001b[0;32m   1302\u001b[0m \u001b[38;5;28;01mexcept\u001b[39;00m \u001b[38;5;167;01mKeyboardInterrupt\u001b[39;00m:\n\u001b[0;32m   1303\u001b[0m     \u001b[38;5;66;03m# re-raise KeyboardInterrupt, to truncate traceback\u001b[39;00m\n\u001b[0;32m   1304\u001b[0m     msg \u001b[38;5;241m=\u001b[39m \u001b[38;5;124m\"\u001b[39m\u001b[38;5;124mInterrupted by user\u001b[39m\u001b[38;5;124m\"\u001b[39m\n\u001b[1;32m-> 1305\u001b[0m     \u001b[38;5;28;01mraise\u001b[39;00m \u001b[38;5;167;01mKeyboardInterrupt\u001b[39;00m(msg) \u001b[38;5;28;01mfrom\u001b[39;00m \u001b[38;5;28;01mNone\u001b[39;00m\n\u001b[0;32m   1306\u001b[0m \u001b[38;5;28;01mexcept\u001b[39;00m \u001b[38;5;167;01mException\u001b[39;00m:\n\u001b[0;32m   1307\u001b[0m     \u001b[38;5;28mself\u001b[39m\u001b[38;5;241m.\u001b[39mlog\u001b[38;5;241m.\u001b[39mwarning(\u001b[38;5;124m\"\u001b[39m\u001b[38;5;124mInvalid Message:\u001b[39m\u001b[38;5;124m\"\u001b[39m, exc_info\u001b[38;5;241m=\u001b[39m\u001b[38;5;28;01mTrue\u001b[39;00m)\n",
      "\u001b[1;31mKeyboardInterrupt\u001b[0m: Interrupted by user"
     ]
    }
   ],
   "source": [
    "mobiles = [\"nokia\",\"sony\",\"samsung\",\"redmi\"]\n",
    "print(\"Question2: which mobile is number one?\")\n",
    "for a, mobile in enumerate(mobiles):\n",
    "    print(a+1,mobile)\n",
    "\n",
    "\n",
    "num2 = input(\"enter mobile name \")\n",
    "if mobiles[3]==num2:\n",
    "    sum = sum +1\n",
    "else:\n",
    "    print(\"no\")\n",
    "sum\n"
   ]
  },
  {
   "cell_type": "code",
   "execution_count": null,
   "id": "31815048-9d42-421b-894e-f37f3cc6d7c4",
   "metadata": {},
   "outputs": [],
   "source": [
    "mobiles = [\"Mir Dard\",\"Allama iqbal\",\"ahmed Faraz\",\"ghalib\"]\n",
    "print(\"Question3: Favourit Poet of Pakistan\")\n",
    "for a, mobile in enumerate(mobiles):\n",
    "    print(a+1,mobile)\n",
    "\n",
    "\n",
    "num2 = input(\"enter mobile name \")\n",
    "if mobiles[1]==num2:\n",
    "    sum = sum +1\n",
    "else:\n",
    "    print(\"no\")\n",
    "sum"
   ]
  },
  {
   "cell_type": "code",
   "execution_count": null,
   "id": "c2434c5c-c02f-4bab-92b3-4252a9ad1079",
   "metadata": {},
   "outputs": [],
   "source": [
    "sum_numbers = [\"8+5\",\"3+9\",\"100-50\",\"70-10\"]\n",
    "print(\"Question4: choose the correct answer? answer is 60\")\n",
    "for a, mobile in enumerate(sum_numbers):\n",
    "    print(a+1,mobile)\n",
    "\n",
    "\n",
    "num2 = input(\"enter mobile name \")\n",
    "if sum_numbers[3]==num2:\n",
    "    sum = sum +1\n",
    "else:\n",
    "    print(\"wronge answer\")\n",
    "sum"
   ]
  },
  {
   "cell_type": "code",
   "execution_count": null,
   "id": "5e7ea4a4-91ad-4d48-91d8-310c3dd54a1c",
   "metadata": {},
   "outputs": [],
   "source": [
    "mobiles = [\"nokia\",\"sony\",\"samsung\",\"redmi\"]\n",
    "print(\"Question5: which mobile is number one?\")\n",
    "for a, mobile in enumerate(mobiles):\n",
    "    print(a+1,mobile)\n",
    "\n",
    "\n",
    "num3 = input(\"enter mobile name \")\n",
    "if mobiles[3]==num3:\n",
    "    sum = sum +1\n",
    "else:\n",
    "    print(\"no\")\n",
    "sum"
   ]
  },
  {
   "cell_type": "code",
   "execution_count": null,
   "id": "58cccd88-7f93-4b35-998f-d4427c6b478d",
   "metadata": {},
   "outputs": [],
   "source": [
    "mobiles = [\"nokia\",\"sony\",\"samsung\",\"redmi\"]\n",
    "print(\"Question6: which mobile is number one?\")\n",
    "for a, mobile in enumerate(mobiles):\n",
    "    print(a+1,mobile)\n",
    "\n",
    "\n",
    "num4 = input(\"enter mobile name \")\n",
    "if mobiles[3]==num4:\n",
    "    sum = sum +1\n",
    "else:\n",
    "    print(\"no\")\n",
    "sum"
   ]
  },
  {
   "cell_type": "code",
   "execution_count": null,
   "id": "d2536db6-56e8-4a16-89f5-9af0be9a2206",
   "metadata": {},
   "outputs": [],
   "source": [
    "mobiles = [\"nokia\",\"sony\",\"samsung\",\"redmi\"]\n",
    "print(\"Question7: which mobile is number one?\")\n",
    "for a, mobile in enumerate(mobiles):\n",
    "    print(a+1,mobile)\n",
    "\n",
    "\n",
    "num5 = input(\"enter mobile name \")\n",
    "if mobiles[3]==num5:\n",
    "    sum = sum +1\n",
    "else:\n",
    "    print(\"no\")\n",
    "sum"
   ]
  },
  {
   "cell_type": "code",
   "execution_count": null,
   "id": "6c403128-fa98-4aee-8628-b7150ecd6f20",
   "metadata": {},
   "outputs": [],
   "source": [
    "print(\"Result: Total Questions 10\")\n",
    "\n",
    "print(f\"{sum} out of 7 is correct\")\n",
    "percentage = int(sum/10*100)\n",
    "print(f\"{percentage} percent is correct\")\n"
   ]
  },
  {
   "cell_type": "code",
   "execution_count": null,
   "id": "f635157e-ea8f-4b15-a106-5d0f941b11b8",
   "metadata": {},
   "outputs": [],
   "source": []
  }
 ],
 "metadata": {
  "kernelspec": {
   "display_name": "Python 3 (ipykernel)",
   "language": "python",
   "name": "python3"
  },
  "language_info": {
   "codemirror_mode": {
    "name": "ipython",
    "version": 3
   },
   "file_extension": ".py",
   "mimetype": "text/x-python",
   "name": "python",
   "nbconvert_exporter": "python",
   "pygments_lexer": "ipython3",
   "version": "3.12.7"
  }
 },
 "nbformat": 4,
 "nbformat_minor": 5
}
