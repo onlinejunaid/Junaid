{
 "cells": [
  {
   "cell_type": "markdown",
   "id": "dadac877-d0ae-49d0-bb94-22ee7fe0c523",
   "metadata": {},
   "source": [
    "#### Question 1: Age Group Classification \n",
    "##### Write a Python program that takes the age of a person as input and classifies them into one of the following age groups:\n",
    "###### \"Child\" if the age is between 0 and 12 (inclusive).\n",
    "###### \"Teenager\" if the age is between 13 and 19 (inclusive).\n",
    "###### \"Adult\" if the age is between 20 and 64 (inclusive).\n",
    "###### \"Senior\" if the age is 65 or older."
   ]
  },
  {
   "cell_type": "code",
   "execution_count": 45,
   "id": "ae685a07-68c7-4d67-b3aa-28e54784ca51",
   "metadata": {},
   "outputs": [
    {
     "name": "stdin",
     "output_type": "stream",
     "text": [
      "write age 16\n"
     ]
    },
    {
     "name": "stdout",
     "output_type": "stream",
     "text": [
      "Teenager\n"
     ]
    }
   ],
   "source": [
    "age = int(input(\"write age\"))\n",
    "\n",
    "if age >= 0 and age <= 12:\n",
    "    print(\"Child\")\n",
    "elif age >=13 and age <=19:\n",
    "    print(\"Teenager\")\n",
    "elif age >=20 and age <=64:\n",
    "    print(\"Adult\")\n",
    "elif age >=65:\n",
    "    print(\"Senior\")"
   ]
  },
  {
   "cell_type": "markdown",
   "id": "d34a6423-4089-4ecf-8f31-29db88bdf499",
   "metadata": {},
   "source": [
    "### Question 2: Checking for Eligibility for Discount\n",
    "##### Write a Python program that determines if a customer is eligible for a discount. The program should take the customer's membership status and purchase amount as input and check the following conditions:\n",
    "###### The customer is a \"premium\" member and the purchase amount is greater than or equal to 1000.\n",
    "###### The customer is a \"regular\" member and the purchase amount is greater than or equal to 2000.\n",
    "###### If the customer meets either of the above conditions, print \"Eligible for discount\", otherwise print \"Not eligible for discount\"."
   ]
  },
  {
   "cell_type": "code",
   "execution_count": 4,
   "id": "bb6f0434-0fd4-4c82-9f65-19ad915d8fa8",
   "metadata": {},
   "outputs": [
    {
     "name": "stdin",
     "output_type": "stream",
     "text": [
      "Enter your membership status ('premium' or 'regular'):  premiuM\n",
      "purchase amount  2500\n"
     ]
    },
    {
     "name": "stdout",
     "output_type": "stream",
     "text": [
      "Eligible for discount\n"
     ]
    }
   ],
   "source": [
    "status = input(\"Enter your membership status ('premium' or 'regular'): \").lower()\n",
    "p_amount = float(input(\"purchase amount \"))\n",
    "if (status == \"premium\" and p_amount >= 1000) or (status == \"regular\" and p_amount >= 2000) :\n",
    "    print(\"Eligible for discount\")\n",
    "else:\n",
    "    print(\"Not eligible for discount\")\n"
   ]
  },
  {
   "cell_type": "markdown",
   "id": "5109c666-fc2c-4b79-a721-fae071a1df3c",
   "metadata": {},
   "source": [
    "### Question 3: Voting Eligibility Check\n",
    "#### Write a Python program that checks if a person is eligible to vote based on their age and citizenship status. The program should take the following inputs:\n",
    "###### Age (an integer).\n",
    "###### Citizenship status (a string: either \"citizen\" or \"non-citizen\").\n",
    "###### The eligibility conditions are:\n",
    "###### The person must be at least 18 years old and a \"citizen\" to be eligible to vote.\n",
    "###### Alternatively, the person can be at least 16 years old and a \"citizen\" of a special region where voting is allowed from age 16.\n",
    "###### If the person meets either of the conditions, print \"Eligible to vote\", otherwise print \"Not eligible to vote\"."
   ]
  },
  {
   "cell_type": "code",
   "execution_count": 6,
   "id": "2dc59b72-07de-44c8-8da5-a256a4b92d03",
   "metadata": {},
   "outputs": [
    {
     "name": "stdin",
     "output_type": "stream",
     "text": [
      "Enter citizenship 'citizen' or 'non-citizen : CitiZen\n",
      "Enter age in years : 19\n"
     ]
    },
    {
     "name": "stdout",
     "output_type": "stream",
     "text": [
      "Eligible to vote\n"
     ]
    }
   ],
   "source": [
    "citizenship = input(\"Enter citizenship 'citizen' or 'non-citizen :\").lower()\n",
    "age = int(input(\"Enter age in years :\"))\n",
    "if ( age>=18 and citizenship == \"citizen\" ) or (age>=16 and citizenship==\"non-citizen\"):\n",
    "    print(\"Eligible to vote\")\n",
    "else:\n",
    "    print(\"Not eligible to vote\")"
   ]
  },
  {
   "cell_type": "markdown",
   "id": "3bdd6261-61ed-4062-aac0-49d09173ff42",
   "metadata": {},
   "source": [
    "#### Question 4: Employee Salary Bonus Eligibility\n",
    "##### Write a Python program that determines if an employee is eligible for a salary bonus based on the following conditions:\n",
    "###### The employee's performance rating is \"Excellent\" and their years of service are greater than or equal to 5 years.\n",
    "###### The employee's performance rating is \"Good\" and their years of service are greater than or equal to 10 years.\n",
    "###### The employee's performance rating is \"Satisfactory\" or their years of service are greater than or equal to 15 years.\n",
    "###### The employee is not eligible for a bonus if neither of these conditions is met.\n",
    "###### The program should print one of the following:\n",
    "###### \"Eligible for bonus\" if the employee meets any of the criteria.\n",
    "###### \"Not eligible for bonus\" if none of the conditions apply."
   ]
  },
  {
   "cell_type": "code",
   "execution_count": 8,
   "id": "82d9ede7-bbeb-4c30-8f39-a9fc8d2ece71",
   "metadata": {},
   "outputs": [
    {
     "name": "stdin",
     "output_type": "stream",
     "text": [
      "Please write Performance Rating 'Excellent' or 'Good' or 'Satisfactory':  Good\n",
      "number of service years :  5\n"
     ]
    },
    {
     "name": "stdout",
     "output_type": "stream",
     "text": [
      "Not eligible for bonus\n"
     ]
    }
   ],
   "source": [
    "pr = input(\"Please write Performance Rating 'Excellent' or 'Good' or 'Satisfactory': \").lower()\n",
    "yos = int(input(\"number of service years : \"))\n",
    "if (pr == \"excellent\" and yos >=5) or (pr == \"good\" and yos >=10) or (pr == \"satisfactory\" and yos >=15):\n",
    "    print(\"The Eligible for bonus\")\n",
    "else:\n",
    "    print(\"Not eligible for bonus\")"
   ]
  },
  {
   "cell_type": "markdown",
   "id": "530897dd-2594-4b6e-9e06-4b72d9666db9",
   "metadata": {},
   "source": [
    "#### Question 5. Write a program that replaces spaces with underscores, counts how many underscores are there, and finds the position of the first underscore.\n",
    "###### Use text: \"I'm learning Python programming\"?"
   ]
  },
  {
   "cell_type": "code",
   "execution_count": 10,
   "id": "b9f2726a-5955-4abf-8287-48487a751e20",
   "metadata": {},
   "outputs": [
    {
     "name": "stdout",
     "output_type": "stream",
     "text": [
      "I'm_learning_Python_programming\n",
      "3\n"
     ]
    }
   ],
   "source": [
    "update_string = \"I'm learning Python programming\".replace(\" \",\"_\")\n",
    "print(update_string)\n",
    "print(update_string.count(\"_\"))"
   ]
  },
  {
   "cell_type": "markdown",
   "id": "074f2a81-837c-4f0f-aa7c-9e4ff1ed1f38",
   "metadata": {},
   "source": [
    "#### Question 6: \n",
    "##### Write a Python program that:  \n",
    "###### Takes a string as input.\n",
    "######  Prints all characters of the string except the last 3 using slicing.\n",
    "######  Prints every second character of the string using slicing.\n",
    "######  Prints the string in reverse using slicing"
   ]
  },
  {
   "cell_type": "code",
   "execution_count": 53,
   "id": "7af5e99d-17a8-4779-aaa2-abd77f710a19",
   "metadata": {},
   "outputs": [
    {
     "name": "stdin",
     "output_type": "stream",
     "text": [
      "Enter a string:  Pakistan zindabad\n"
     ]
    },
    {
     "name": "stdout",
     "output_type": "stream",
     "text": [
      "All characters of the string except the last 3: Pakistan zinda\n",
      "Show every second character: Pksa idbd\n",
      "String in reverse form: dabadniz natsikaP\n"
     ]
    }
   ],
   "source": [
    "string = input(\"Enter a string: \")\n",
    "\n",
    "print(\"All characters of the string except the last 3:\", string[:-3])\n",
    "\n",
    "print(\"Show every second character:\", string[::2])\n",
    "\n",
    "print(\"String in reverse form:\", string[::-1])"
   ]
  },
  {
   "cell_type": "markdown",
   "id": "431a6950-707f-4119-a369-dd5448bc4a83",
   "metadata": {},
   "source": [
    "#### Question 7. \n",
    "###### Given a sentence, you need to reverse the order of the words in the sentence while preserving their original capitalization and spaces.\n",
    "###### Use text : \"Hello World, We are learning Python\""
   ]
  },
  {
   "cell_type": "code",
   "execution_count": 14,
   "id": "90fe0d07-28c2-4d76-a6cb-6ba22dbaaf9f",
   "metadata": {},
   "outputs": [
    {
     "name": "stdout",
     "output_type": "stream",
     "text": [
      "Reversed words in list  ['Python', 'learning', 'are', 'We', 'World,', 'Hello']\n",
      "Answer :  Python learning are We World, Hello\n"
     ]
    }
   ],
   "source": [
    "words = \"Hello World, We are learning Python\"\n",
    "reversed_words = words.split()[::-1]\n",
    "sentence = \" \".join(reversed_words)\n",
    "print(\"Reversed words in list \", reversed_words)\n",
    "print(\"Answer : \",sentence)"
   ]
  },
  {
   "cell_type": "markdown",
   "id": "599d386f-f8f0-4e58-8230-def4ad302da9",
   "metadata": {},
   "source": [
    "#### Question 8. You have a product code that follows the format \"SKU-12345-XYZ\". \n",
    "###### You need to Remove the \"SKU-\" and the \"-XYZ\" from the product code. Extract and return the number"
   ]
  },
  {
   "cell_type": "code",
   "execution_count": 16,
   "id": "70f968a2-0fc7-47c7-9108-a9daa7719ccf",
   "metadata": {},
   "outputs": [
    {
     "name": "stdout",
     "output_type": "stream",
     "text": [
      "12345\n"
     ]
    }
   ],
   "source": [
    "text = \"SKU-12345-XYZ\"\n",
    "a = text.replace(\"SKU-\",\"\")\n",
    "b = a.replace(\"-XYZ\",\"\")\n",
    "print(b)"
   ]
  },
  {
   "cell_type": "markdown",
   "id": "19e0ff8c-dce0-4a13-9418-eaea64617079",
   "metadata": {},
   "source": [
    "#### Question 9. Write a Python program to check user password has following:\n",
    "###### Whether the string contains any uppercase characters. Whether the string contains any lowercase characters. Whether the string contains any spaces. Whether the string contains any special characters (anything other than letters, digits, and spaces)."
   ]
  },
  {
   "cell_type": "code",
   "execution_count": 55,
   "id": "f004f250-a391-4cfb-8277-3d988b73bdb4",
   "metadata": {},
   "outputs": [
    {
     "name": "stdin",
     "output_type": "stream",
     "text": [
      "Enter your password:  Karachi-3\n"
     ]
    },
    {
     "name": "stdout",
     "output_type": "stream",
     "text": [
      "Password Contains upercase : True\n",
      "Password Contains lowercase : True\n",
      "Password Contains space : False\n",
      "Password Contains special : True\n"
     ]
    }
   ],
   "source": [
    "password = input(\"Enter your password: \")\n",
    "\n",
    "# Check conditions\n",
    "uppercase = any(c.isupper() for c in password)\n",
    "lowercase = any(c.islower() for c in password)\n",
    "space = ' ' in password\n",
    "special = any(not c.isupper() and not c.islower() and not c.isspace() for c in password)\n",
    "\n",
    "print(\"Password Contains upercase :\",uppercase)\n",
    "print(\"Password Contains lowercase :\", lowercase)\n",
    "print(\"Password Contains space :\", space)\n",
    "print(\"Password Contains special :\", special)\n"
   ]
  },
  {
   "cell_type": "markdown",
   "id": "882b8374-3ddc-4016-ab4c-28e36d473262",
   "metadata": {},
   "source": [
    "#### Question 10: Find the Longest Word\n",
    "###### Write a Python program that finds the longest word in a given string.\n",
    "###### Example:\n",
    "###### Input: \"I love programming in Python\"\n",
    "###### Output: \"programming\""
   ]
  },
  {
   "cell_type": "code",
   "execution_count": 20,
   "id": "aa66b183-a0b6-4278-b4e2-5ec7a66f03d4",
   "metadata": {},
   "outputs": [
    {
     "name": "stdin",
     "output_type": "stream",
     "text": [
      "Enter a sentence:  i am programmer\n"
     ]
    },
    {
     "name": "stdout",
     "output_type": "stream",
     "text": [
      "programmer\n"
     ]
    }
   ],
   "source": [
    "sentence = input(\"Enter a sentence: \")\n",
    "print(max(sentence.split(), key=len))"
   ]
  }
 ],
 "metadata": {
  "kernelspec": {
   "display_name": "Python 3 (ipykernel)",
   "language": "python",
   "name": "python3"
  },
  "language_info": {
   "codemirror_mode": {
    "name": "ipython",
    "version": 3
   },
   "file_extension": ".py",
   "mimetype": "text/x-python",
   "name": "python",
   "nbconvert_exporter": "python",
   "pygments_lexer": "ipython3",
   "version": "3.12.7"
  }
 },
 "nbformat": 4,
 "nbformat_minor": 5
}
